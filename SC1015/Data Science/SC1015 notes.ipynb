{
 "cells": [
  {
   "cell_type": "code",
   "execution_count": null,
   "id": "4cd841c3",
   "metadata": {},
   "outputs": [],
   "source": [
    "    #Essential libraries\n",
    "import os\n",
    "import numpy as np\n",
    "import pandas as pd\n",
    "import seaborn as sb\n",
    "import matplotlib.pyplot as plt #only need pyplot\n",
    "sb.set() #set the default Seaborn style for graphics"
   ]
  },
  {
   "cell_type": "code",
   "execution_count": null,
   "id": "1658da2c",
   "metadata": {},
   "outputs": [],
   "source": [
    "Dict = {\"Column \":[,],\n",
    "      \" \":[,],\n",
    "       ...}\n",
    "\n",
    "VariableName = pd.DataFrame(Dict)\n",
    "VariableName\n",
    "#prints the table\n",
    "\n",
    "VariableName[\"Column\"]\n",
    "#prints index and \"Column\"\n",
    "#Also prints Name:\"Column\",dtype:__\n",
    "\n",
    "VariableName.iloc[0]\n",
    "#prints row index \n",
    "#Also prints Name:\"index\",dtype:__"
   ]
  },
  {
   "cell_type": "code",
   "execution_count": null,
   "id": "3e9e4325",
   "metadata": {},
   "outputs": [],
   "source": [
    "    #Import CSV File into a dataframe\n",
    "csvData = pd.read_csv('somedata.csv',header = None)    \n",
    "csvData.head()                         \n",
    "#.head() gives the first few rows\n",
    "\n",
    "\n",
    "    #Dimensions and data type\n",
    "print(\"Data type: \",type(csvData))\n",
    "print(\"Data dims: \",csvData.shape)\n",
    "#type gives the data type\n",
    "#Output: Data type:<class 'pandas.core.frame.DataFrame'>\n",
    "#.shape gives (no. of rows,no. of columns)"
   ]
  },
  {
   "cell_type": "code",
   "execution_count": null,
   "id": "7fbe6f96",
   "metadata": {},
   "outputs": [],
   "source": [
    "    #Import TXT File into a dataframe\n",
    "txtData = pd.read_table('somedata.txt',sep = \"\\s+\", header = None)\n",
    "txtData.head()"
   ]
  },
  {
   "cell_type": "code",
   "execution_count": null,
   "id": "6b24d3b6",
   "metadata": {},
   "outputs": [],
   "source": [
    "    #Import XLS file into a dataframe\n",
    "xlsData = pd.read_excel('somedata.xlsx',sheet_name = 'Sheet1', header = None)\n",
    "xlsData.head()"
   ]
  },
  {
   "cell_type": "code",
   "execution_count": null,
   "id": "5382b8e3",
   "metadata": {},
   "outputs": [],
   "source": [
    "    #Import JSON file into dataframe\n",
    "jsonData = pd.read_json('somedata.json')\n",
    "jsonData.head()"
   ]
  },
  {
   "cell_type": "code",
   "execution_count": null,
   "id": "2436c80e",
   "metadata": {},
   "outputs": [],
   "source": [
    "    #Import HTML table into dataframe\n",
    "htmlData = pd.read_html('http://www. .com')\n",
    "print(\"HTML tables: \", len(htmlData))\n",
    "htmlData[2].head()\n",
    "#can acccess different tables"
   ]
  },
  {
   "cell_type": "code",
   "execution_count": null,
   "id": "a58c2328",
   "metadata": {},
   "outputs": [],
   "source": []
  },
  {
   "cell_type": "code",
   "execution_count": null,
   "id": "571f9b7e",
   "metadata": {},
   "outputs": [],
   "source": [
    "    #get data type of evetry column\n",
    "print(pkmndata.dtypes)"
   ]
  },
  {
   "cell_type": "code",
   "execution_count": null,
   "id": "b049dbfd",
   "metadata": {},
   "outputs": [],
   "source": [
    "    #Extract a single variable\n",
    "hp = pd.DataFrame(pkmndata['HP'])\n",
    "#pd.DataFrame(datafile['column'])"
   ]
  },
  {
   "cell_type": "code",
   "execution_count": null,
   "id": "eed98550",
   "metadata": {},
   "outputs": [],
   "source": [
    "    #Summary statistics: count, mean, std, min, max, 25%, 50%, 75% \n",
    "hp.describe()"
   ]
  },
  {
   "cell_type": "code",
   "execution_count": null,
   "id": "50b94b19",
   "metadata": {},
   "outputs": [],
   "source": [
    "    #Box plot\n",
    "f, axes = plt.subplots(1,1,figsize=(24,4)) \n",
    "#gives axes and background\n",
    "#plt.subplots(1,1) means the number of axes in rows and columns\n",
    "sb.boxplot(data=hp,orient = \"h\")\n",
    "# gives the boxplot and set orientation to horizontal"
   ]
  },
  {
   "cell_type": "code",
   "execution_count": null,
   "id": "0c0be997",
   "metadata": {},
   "outputs": [],
   "source": [
    "    #Histogram\n",
    "f = plt.figure(figsize=(16,8))\n",
    "sb.histplot(data = hp)#kde = True)"
   ]
  },
  {
   "cell_type": "code",
   "execution_count": null,
   "id": "59c138ba",
   "metadata": {},
   "outputs": [],
   "source": [
    "    #Kernal Density Estimate(KDE)\n",
    "f = plt.figure(figsize(16,8))\n",
    "sb.kdeplot(data=hp)"
   ]
  },
  {
   "cell_type": "code",
   "execution_count": null,
   "id": "e85db9f1",
   "metadata": {},
   "outputs": [],
   "source": [
    "    #Violin plot\n",
    "f = plt.figure(figsize(16,8))\n",
    "sb.violinplot(data=hp,orient=\"h\",color = \"red\")"
   ]
  },
  {
   "cell_type": "code",
   "execution_count": null,
   "id": "2b981891",
   "metadata": {},
   "outputs": [],
   "source": [
    "    #Extract two variables\n",
    "hp = pd.DataFrame(pkmndata['HP'])\n",
    "attack = pd.DataFrame(pkmndata['Attack'])\n",
    "\n",
    "    #can .describe() each of them\n",
    "    \n",
    "    # Set up matplotlib figure with three subplots\n",
    "f, axes = plt.subplots(2, 3, figsize=(24, 12))\n",
    "\n",
    "    # Plot the basic uni-variate figures for HP\n",
    "sb.boxplot(data = hp, orient = \"h\", ax = axes[0,0],color = \"r\")\n",
    "sb.histplot(data = hp, ax = axes[0,1])\n",
    "sb.violinplot(data = hp, orient = \"h\", ax = axes[0,2],color = \"r\")\n",
    "####ax = axes[,] used to indicate where is graph is \n",
    "\n",
    "    # Plot the basic uni-variate figures for Attack\n",
    "sb.boxplot(data = attack, orient = \"h\", ax = axes[1,0])\n",
    "sb.histplot(data = attack, ax = axes[1,1])\n",
    "sb.violinplot(data = attack, orient = \"h\", ax = axes[1,2])"
   ]
  },
  {
   "cell_type": "code",
   "execution_count": null,
   "id": "9e50b70e",
   "metadata": {},
   "outputs": [],
   "source": [
    "    #Joint dataframe created by concatenating two variables\n",
    "jointDF = pd.concat([attack,hp],axis = 1),reindex(attack.index)\n",
    "jointDF\n",
    "#axis = 1 means to concatenate along the column"
   ]
  },
  {
   "cell_type": "code",
   "execution_count": null,
   "id": "20463473",
   "metadata": {},
   "outputs": [],
   "source": [
    "    #Jointplot of two variables in joint dataframe\n",
    "sb.jointplot(data = jointDF,x = \"Attack\",y = \"HP\",height = 12)\n",
    "#histogram at the x and y axis with a scatterplot in the middle"
   ]
  },
  {
   "cell_type": "code",
   "execution_count": null,
   "id": "7f24e258",
   "metadata": {},
   "outputs": [],
   "source": [
    "    #get correlation of the two variables\n",
    "jointDF.corr()\n",
    "\n",
    "    #show heatmap of correlation\n",
    "sb.heatmap(jointDF.corr(),vmin = -1,vmax = 1,annot = True, fmt = \".2f\")\n",
    "#fmt means format"
   ]
  },
  {
   "cell_type": "code",
   "execution_count": null,
   "id": "53778195",
   "metadata": {},
   "outputs": [],
   "source": [
    "    #Extract all numeric data variables\n",
    "numDF = pd.DataFrame(pkmndata[[\"HP\", \"Attack\", \"Defense\", \"Sp. Atk\", \"Sp. Def\", \"Speed\"]])\n",
    "    \n",
    "    #can .describe() each of them\n",
    "    #can draw boxplot\n",
    "#####can draw different plots using for loop and count variable \n",
    "        #eg.count=0, for var in numDF: ..., count+=1\n",
    "    #can get correlation\n",
    "    #can get heatmap"
   ]
  },
  {
   "cell_type": "code",
   "execution_count": null,
   "id": "c4d80005",
   "metadata": {},
   "outputs": [],
   "source": [
    "    #Compare between each variable\n",
    "sb.pairplot(data=numDF)\n",
    "#the diaginal is a histogram\n",
    "#upper right hand side triangle reflection of bottom left hand side triangle\n",
    "#all graphs except diagonal are scatterplots"
   ]
  },
  {
   "cell_type": "code",
   "execution_count": null,
   "id": "0671a1de",
   "metadata": {},
   "outputs": [],
   "source": [
    "#Secondary Types in the Dataset\n",
    "print(\"Number of Secondary Types :\", len(pkmndata[\"Type 2\"].dropna().unique()))\n",
    "#.dropna() removes null values"
   ]
  },
  {
   "cell_type": "code",
   "execution_count": null,
   "id": "2b4422b4",
   "metadata": {},
   "outputs": [],
   "source": []
  },
  {
   "cell_type": "code",
   "execution_count": null,
   "id": "e625e4e1",
   "metadata": {},
   "outputs": [],
   "source": [
    "    #Information about Variables\n",
    "pkmndata.info()\n",
    "#gives data types,range index,data columns, #, columns, non null count, memory usage"
   ]
  },
  {
   "cell_type": "code",
   "execution_count": null,
   "id": "46b21fae",
   "metadata": {},
   "outputs": [],
   "source": [
    "    #Category plot\n",
    "print(\"Number of Generations :\",len(pkmndata[\"Generation\"].unique()))\n",
    "#number of generations in dataset\n",
    "\n",
    "print(pkmndata[\"Generation\"].value_count())\n",
    "#number of pokemons in each generation\n",
    "\n",
    "sb.catplot(y = \"Generation\",data = pkmndata,kind = \"count\")\n",
    "##horizontal bar graph"
   ]
  },
  {
   "cell_type": "code",
   "execution_count": null,
   "id": "666f92fc",
   "metadata": {},
   "outputs": [],
   "source": [
    "#Single type pokemon\n",
    "singletypedata = pkmndata[pkmndata[\"Type 2\"].isnull()]\n",
    "print(\"Pokemons with just Type 1 :\", len(singletype_data))\n",
    "\n",
    "#dual type pokemon\n",
    "dualtypedata = pkmndata[pkmndata[\"Type 2\"].isnull()==False]\n",
    "print(\"Pokemons with Type 1 and 2:\", len(dualtype_data))\n",
    "##.isnull() and .isnull()==False\n",
    "\n",
    "#Primary type over generations\n",
    "sb.catplot(y = 'Type 1', data = pkmndata, col = 'Generation', kind = 'count', col_wrap = 2, height = 8)\n",
    "##col_wrap= places the number of graph side by side\n",
    "##col= indicates the x axis labelling\n",
    "\n",
    "#Pokemons with Dual Types -- I and II\n",
    "dualtype_data = pkmndata[pkmndata[\"Type 2\"].isnull() == False]\n",
    "print(\"Pokemons with Types 1 and 2 :\", len(dualtype_data))\n",
    "\n",
    "#Distribution of the Two Types\n",
    "f = plt.figure(figsize=(20, 20))\n",
    "sb.heatmap(dualtype_data.groupby(['Type 1', 'Type 2']).size().unstack(), \n",
    "           linewidths = 1, annot = True, annot_kws = {\"size\": 18}, cmap = \"BuGn\""
   ]
  },
  {
   "cell_type": "code",
   "execution_count": null,
   "id": "1a867400",
   "metadata": {},
   "outputs": [],
   "source": [
    "#Legendary Pokemons in the Dataset\n",
    "legnd_data = pkmndata[pkmndata[\"Legendary\"] == True]\n",
    "print(\"Number of Legendary Pokemons :\", len(legnd_data))\n",
    "##[category]==True simliar to .isnull==True"
   ]
  },
  {
   "cell_type": "code",
   "execution_count": null,
   "id": "78a3d4fa",
   "metadata": {},
   "outputs": [],
   "source": [
    "#Legendary Pokemons in each Primary Type\n",
    "print(legnd_data[\"Type 1\"].value_counts())\n",
    "sb.catplot(y = \"Type 1\", data = legnd_data, kind = \"count\", \n",
    "           order = legnd_data[\"Type 1\"].value_counts().index, height = 8)\n",
    "#order basically is follow the same order\n",
    "#value_counts().index returns a series containing counts of unique values"
   ]
  },
  {
   "cell_type": "code",
   "execution_count": null,
   "id": "323934b3",
   "metadata": {},
   "outputs": [],
   "source": [
    "# Distribution over the Two Types\n",
    "f = plt.figure(figsize=(20, 20))\n",
    "sb.heatmap(dualtype_legnd_data.groupby(['Type 1', 'Type 2']).size().unstack(), \n",
    "           linewidths = 1, annot = True, annot_kws = {\"size\": 18}, cmap = \"BuGn\"\n",
    "#.groupby groups large amounts of data and compute operations on these groups\n",
    "#.unstack() returns a dataframe having a new level of column labels whose inner most level consists of pivoted index labels \n",
    "#linewidths= is the width of lines that will divide each cell\n",
    "#annot=True means write the data in each cell\n",
    "#annot_kws= dict of key,value mappings\n",
    "#cmap gives the color of the map eg.BuGn,RdBu"
   ]
  },
  {
   "cell_type": "code",
   "execution_count": null,
   "id": "95840860",
   "metadata": {},
   "outputs": [],
   "source": [
    "# Pokemons with Duplicate IDs\n",
    "dupid_data = pkmndata[pkmndata.duplicated(\"#\", keep = False)]\n",
    "dupid_data.sort_values(by = \"Name\").head(n = 10)\n",
    "#sort_values(by = \"Name\")"
   ]
  },
  {
   "cell_type": "code",
   "execution_count": null,
   "id": "6f418783",
   "metadata": {},
   "outputs": [],
   "source": []
  },
  {
   "cell_type": "code",
   "execution_count": null,
   "id": "ca7456a5",
   "metadata": {},
   "outputs": [],
   "source": [
    "    #Clean dataset\n",
    "pkmndata_clean = pkmndata.copy()\n",
    "#create a copy of the dataset\n",
    "\n",
    "pkmndata_clean.rename(columns = {'#':ID},inplace = True)\n",
    "#rename '#' to 'ID', replacing it\n",
    "\n",
    "pkmndata_clean.column = pkmndata_clean.columns.str.upper()\n",
    "#convert all variable names to uppercase\n",
    "\n",
    "pkmndata_clean.columns = pkmndata_cleancolumns.str.replace(\".\",\"\")\n",
    "#removes dots from variable names"
   ]
  },
  {
   "cell_type": "code",
   "execution_count": null,
   "id": "e38d53dd",
   "metadata": {},
   "outputs": [],
   "source": [
    "    #Fix weird names of pokemon\n",
    "import re\n",
    "\n",
    "#Fix names with extra extensions\n",
    "pkmndata_clean[\"NAME\"] = pkmndata_clean[\"NAME\"].apply(lambda x: re.sub(r'(.+)(Forme)',r'\\1',x))\n",
    "#use r'(.+)(pattern)'\n",
    "#r'\\1' represents first group\n",
    "\n",
    "# Fix names with Mega in between\n",
    "pkmndata_clean[\"NAME\"] = pkmndata_clean[\"NAME\"].apply(lambda x: re.sub(r'(.+Mega)(.+)',r'\\1', x))\n",
    "#use r'(.+pattern)(.+)'\n",
    "\n",
    "# Remove Blanks from all the Names\n",
    "pkmndata_clean[\"NAME\"] = pkmndata_clean[\"NAME\"].apply(lambda x: re.sub(r'\\s+','', x))\n",
    "#.apply() takes arguments as an array and is a method that can be used on different objects\n",
    "#re.sub(r'pattern','replication',string)\n",
    "#'\\s+' indicates spaces"
   ]
  },
  {
   "cell_type": "code",
   "execution_count": null,
   "id": "e3a8747e",
   "metadata": {},
   "outputs": [],
   "source": [
    "# Pokemons with Duplicate IDs\n",
    "dupid_data_clean = pkmndata_clean[pkmndata_clean.duplicated(\"ID\", keep = False)]\n",
    "#keep=False means dont keep,remove\n",
    "#.duplicated means find the duplicated\n",
    "\n",
    "# Group Pokemons with same ID\n",
    "print(\"# \\t Count \\t List of Pokemons with Duplicate IDs\")\n",
    "print()\n",
    "for dupid_clean in dupids_clean:\n",
    "    dupid_list_clean = list(dupid_data_clean[dupid_data_clean[\"ID\"] == dupid_clean][\"NAME\"])\n",
    "    print(dupid_clean, \"\\t\", len(dupid_list_clean), \"\\t\", dupid_list_clean) "
   ]
  },
  {
   "cell_type": "code",
   "execution_count": null,
   "id": "06644219",
   "metadata": {},
   "outputs": [],
   "source": [
    "# X,Y labels missing for Charizard (6)\n",
    "print(pkmndata_clean[pkmndata_clean[\"ID\"] == 6][\"NAME\"])\n",
    "\n",
    "# Fix the X,Y labels for Charizard\n",
    "pkmndata_clean.loc[7,\"NAME\"] = \"CharizardMegaX\"\n",
    "pkmndata_clean.loc[8,\"NAME\"] = \"CharizardMegaY\""
   ]
  },
  {
   "cell_type": "code",
   "execution_count": null,
   "id": "103a3005",
   "metadata": {},
   "outputs": [],
   "source": [
    "    #Set NAME as the Index of the DataFrame\n",
    "pkmndata_clean = pkmndata_clean.set_index('NAME')\n",
    "#.set_index() changes the index to ()variable"
   ]
  },
  {
   "cell_type": "code",
   "execution_count": null,
   "id": "3a2898d6",
   "metadata": {},
   "outputs": [],
   "source": [
    "    #Fill missing values in data\n",
    "pkmndata_clean[\"TYPE_2\"].fillna(value = \"NoType\", inplace = True)\n",
    "#fillna() fills a null value with the value=\"NoType\""
   ]
  },
  {
   "cell_type": "code",
   "execution_count": null,
   "id": "f8a3dc99",
   "metadata": {},
   "outputs": [],
   "source": []
  },
  {
   "cell_type": "code",
   "execution_count": null,
   "id": "348f3e93",
   "metadata": {},
   "outputs": [],
   "source": [
    "#Strongest Pokemons in each Generation -- the Top 10\n",
    "generation = 1\n",
    "pkmndata_clean[pkmndata_clean[\"GENERATION\"] == generation].sort_values('TOTAL', ascending=False).head(10)\n",
    "#.sort_values('TOTAL', ascending=False) sorts values in descending order"
   ]
  },
  {
   "cell_type": "code",
   "execution_count": null,
   "id": "a38dded5",
   "metadata": {},
   "outputs": [],
   "source": [
    "#Compute the Average TOTAL across every pair of TYPEs\n",
    "total_means = pkmndata_clean.groupby(['TYPE_1', 'TYPE_2']).mean().loc[:, 'TOTAL']\n",
    "#.mean() gets the average value\n",
    "#.loc[:,'TOTAL'] places TOTAL beside TYPE_2 column"
   ]
  },
  {
   "cell_type": "code",
   "execution_count": null,
   "id": "440eac31",
   "metadata": {},
   "outputs": [],
   "source": [
    "# Strongest Pokemons in each Pair of Types -- the Top 10\n",
    "print(total_means.reset_index().sort_values('TOTAL', ascending=False).head(10).round(2))\n",
    "#.rest_index() resets the index\n",
    "#.round(value) rounds the data into value decimal places\n"
   ]
  },
  {
   "cell_type": "code",
   "execution_count": null,
   "id": "ccb85124",
   "metadata": {},
   "outputs": [],
   "source": []
  },
  {
   "cell_type": "markdown",
   "id": "f60fbc74",
   "metadata": {},
   "source": [
    "Regression Model : Total = 𝑎 × HP +  𝑏"
   ]
  },
  {
   "cell_type": "code",
   "execution_count": null,
   "id": "50a6e0f1",
   "metadata": {},
   "outputs": [],
   "source": [
    "    #Import Linear Regression model, MSE and \n",
    "from sklearn.linear_model import LinearRegression\n",
    "from sklearn.model_selection import train_test_split\n",
    "from sklearn.metrics import mean_squared_error\n",
    "\n",
    "linreg = LinearRegression()"
   ]
  },
  {
   "cell_type": "code",
   "execution_count": null,
   "id": "d4e9d077",
   "metadata": {},
   "outputs": [],
   "source": [
    "# Split the Dataset into Train and Test\n",
    "X_train, X_test, y_train, y_test = train_test_split(hp, total, test_size = 0.25)"
   ]
  },
  {
   "cell_type": "code",
   "execution_count": null,
   "id": "5247691a",
   "metadata": {},
   "outputs": [],
   "source": [
    "    #Train the Linear Regression model\n",
    "linreg.fit(hp_train,total_train)"
   ]
  },
  {
   "cell_type": "code",
   "execution_count": null,
   "id": "26a4676d",
   "metadata": {},
   "outputs": [],
   "source": [
    "    #Coefficients of the Linear Regression line\n",
    "printf('Intercept \\t: b= ',linreg.intercept_)\n",
    "print('Coefficients \\t: a = ',linreg.coef_)"
   ]
  },
  {
   "cell_type": "code",
   "execution_count": null,
   "id": "625549d1",
   "metadata": {},
   "outputs": [],
   "source": [
    "    #Formula for Regression Line\n",
    "regline_x = hp_train\n",
    "regline_y = linreg.intercept_ + linreg.coef_ * hp_train\n",
    "\n",
    "    # Plot the Linear Regression line\n",
    "f = plt.figure(figsize=(16, 8))\n",
    "plt.scatter(hp_train, total_train)\n",
    "plt.plot(regline_x, regline_y, 'r-', linewidth = 3)\n",
    "\n",
    "# Print the Coefficients against Predictors\n",
    "print(pd.DataFrame(list(zip(X_train.columns, linreg.coef_[0])), columns = [\"Predictors\", \"Coefficients\"]))\n",
    "print()"
   ]
  },
  {
   "cell_type": "code",
   "execution_count": null,
   "id": "9134a1c9",
   "metadata": {},
   "outputs": [],
   "source": [
    "    # Predict Total values corresponding to HP Train\n",
    "total_train_pred = linreg.predict(hp_train)\n",
    "\n",
    "    # Plot the Linear Regression line\n",
    "f = plt.figure(figsize=(16, 8))\n",
    "plt.scatter(hp_train, total_train)\n",
    "plt.scatter(hp_train, total_train_pred, color = \"r\")"
   ]
  },
  {
   "cell_type": "code",
   "execution_count": null,
   "id": "410359fe",
   "metadata": {},
   "outputs": [],
   "source": [
    "# Check the Goodness of Fit (on Train Data)\n",
    "print(\"Goodness of Fit of Model \\tTrain Dataset\")\n",
    "print(\"Explained Variance (R^2) \\t:\", linreg.score(X_train, y_train))\n",
    "print(\"Mean Squared Error (MSE) \\t:\", mean_squared_error(y_train, y_train_pred))\n",
    "print()\n",
    "\n",
    "# Check the Goodness of Fit (on Test Data)\n",
    "print(\"Goodness of Fit of Model \\tTest Dataset\")\n",
    "print(\"Explained Variance (R^2) \\t:\", linreg.score(X_test, y_test))\n",
    "print(\"Mean Squared Error (MSE) \\t:\", mean_squared_error(y_test, y_test_pred))\n",
    "print()"
   ]
  },
  {
   "cell_type": "code",
   "execution_count": null,
   "id": "a0950bee",
   "metadata": {},
   "outputs": [],
   "source": []
  },
  {
   "cell_type": "code",
   "execution_count": null,
   "id": "406e2c8d",
   "metadata": {},
   "outputs": [],
   "source": [
    "# Summarize the Actuals, Predictions and Errors\n",
    "y_pred = pd.DataFrame(y_pred, columns = [\"PredTotal\"], index = pkmndata_pred.index)\n",
    "pkmndata_acc = pd.concat([pkmndata_pred[[\"Name\", \"Total\"]], y_pred], axis = 1)\n",
    "\n",
    "y_errs = 100 * abs(pkmndata_acc[\"Total\"] - pkmndata_acc[\"PredTotal\"]) / pkmndata_acc[\"Total\"]\n",
    "y_errs = pd.DataFrame(y_errs, columns = [\"Error\"], index = pkmndata_pred.index)\n",
    "pkmndata_acc = pd.concat([pkmndata_acc, y_errs], axis = 1)\n",
    "\n",
    "pkmndata_acc"
   ]
  },
  {
   "cell_type": "markdown",
   "id": "8eb3c658",
   "metadata": {},
   "source": [
    "Prediction Interval\n",
    "The confidence on Prediction depends on the Distribution and Deviation of the Errors in Prediction.\n",
    "We obtain the Mean Squared Error on the Train Set while fitting/training the Linear Regression Model.\n",
    "\n",
    "The Standard Error of Prediction may be estimated as  $StdE = \\sqrt{\\frac{n}{n-2} MSE}$  from the Train Set\n"
   ]
  },
  {
   "cell_type": "code",
   "execution_count": null,
   "id": "ddbe558d",
   "metadata": {},
   "outputs": [],
   "source": [
    "MSE_train = mean_squared_error(y_train, y_train_pred)\n",
    "StdE_pred = np.sqrt(len(y_train) * MSE_train/(len(y_train) - 2))\n",
    "\n",
    "print(\"Mean Squared Error (MSE) \\t:\", MSE_train.round(2))\n",
    "print(\"Pred Standard Error (SE) \\t:\", StdE_pred.round(2))"
   ]
  },
  {
   "cell_type": "markdown",
   "id": "5e6a0446",
   "metadata": {},
   "source": [
    "In Prediction, we assume a Gaussian (Normal) Distribution for Predictions Errors.    \n",
    "The `95%` Prediction Interval for any data point is given by $Prediction \\pm 1.96 \\times StdE$    \n",
    "The `99%` Prediction Interval for any data point is given by $Prediction \\pm 2.58 \\times StdE$    "
   ]
  },
  {
   "cell_type": "code",
   "execution_count": null,
   "id": "a0eb547b",
   "metadata": {},
   "outputs": [],
   "source": [
    "y_95l = pd.DataFrame(pkmndata_acc[\"PredTotal\"] - 1.96*StdE_pred).rename(columns = {\"PredTotal\" : \"95 Lower\"})\n",
    "y_95u = pd.DataFrame(pkmndata_acc[\"PredTotal\"] + 1.96*StdE_pred).rename(columns = {\"PredTotal\" : \"95 Upper\"})\n",
    "y_99l = pd.DataFrame(pkmndata_acc[\"PredTotal\"] - 2.58*StdE_pred).rename(columns = {\"PredTotal\" : \"99 Lower\"})\n",
    "y_99u = pd.DataFrame(pkmndata_acc[\"PredTotal\"] + 2.58*StdE_pred).rename(columns = {\"PredTotal\" : \"99 Upper\"})\n",
    "\n",
    "pkmndata_int = pd.concat([pkmndata_acc, y_95l, y_95u, y_99l, y_99u], axis = 1)\n",
    "pkmndata_int"
   ]
  },
  {
   "cell_type": "code",
   "execution_count": null,
   "id": "1d8271ce",
   "metadata": {},
   "outputs": [],
   "source": []
  },
  {
   "cell_type": "code",
   "execution_count": null,
   "id": "465daf8f",
   "metadata": {},
   "outputs": [],
   "source": [
    "# Joint Swarmplot of Total Train against Legendary Train\n",
    "f = plt.figure(figsize=(18, 6))\n",
    "sb.swarmplot(x = \"Total\", y = \"Legendary\", data = trainDF, orient = \"h\")"
   ]
  },
  {
   "cell_type": "code",
   "execution_count": null,
   "id": "21e444c2",
   "metadata": {},
   "outputs": [],
   "source": [
    "# Import Decision Tree Classifier model from Scikit-Learn\n",
    "from sklearn.tree import DecisionTreeClassifier\n",
    "\n",
    "# Create a Decision Tree Classifier object\n",
    "dectree = DecisionTreeClassifier(max_depth = 2)"
   ]
  },
  {
   "cell_type": "code",
   "execution_count": null,
   "id": "f8653dbc",
   "metadata": {},
   "outputs": [],
   "source": [
    "# Train the Decision Tree Classifier model\n",
    "dectree.fit(total_train, legnd_train)"
   ]
  },
  {
   "cell_type": "code",
   "execution_count": null,
   "id": "ed36ab16",
   "metadata": {},
   "outputs": [],
   "source": [
    "# Plot the trained Decision Tree\n",
    "from sklearn.tree import plot_tree\n",
    "\n",
    "f = plt.figure(figsize=(12,12))\n",
    "plot_tree(dectree, filled=True, rounded=True, \n",
    "          feature_names=[\"Total\"], \n",
    "          class_names=[\"Ordinary\",\"Legendary\"])"
   ]
  },
  {
   "cell_type": "code",
   "execution_count": null,
   "id": "c903bc61",
   "metadata": {},
   "outputs": [],
   "source": [
    "# Predict Legendary corresponding to Total Train\n",
    "legnd_train_pred = dectree.predict(total_train)\n",
    "\n",
    "# Print the Classification Accuracy\n",
    "print(\"Classification Accuracy \\t:\", dectree.score(total_train, legnd_train))\n",
    "\n",
    "# Plot the two-way Confusion Matrix\n",
    "from sklearn.metrics import confusion_matrix\n",
    "\n",
    "sb.heatmap(confusion_matrix(legnd_train, legnd_train_pred), \n",
    "           annot = True, fmt=\".0f\", annot_kws={\"size\": 18})"
   ]
  },
  {
   "cell_type": "code",
   "execution_count": null,
   "id": "25cebc1d",
   "metadata": {},
   "outputs": [],
   "source": [
    "//repeat for test set"
   ]
  },
  {
   "cell_type": "code",
   "execution_count": null,
   "id": "aa5a6164",
   "metadata": {},
   "outputs": [],
   "source": [
    "# Extract Pokemons for Prediction\n",
    "pkmndata_pred = pkmndata[pkmndata[\"Name\"].isin([\"Mewtwo\", \"GiratinaOrigin Forme\", \"Butterfree\"])]\n",
    "pkmndata_pred    \n",
    "\n",
    "# Extract Predictors for Prediction\n",
    "X_pred = pd.DataFrame(pkmndata_pred[predictors])\n",
    "\n",
    "# Predict Response corresponding to Predictors\n",
    "y_pred = dectree.predict(X_pred)\n",
    "y_pred\n",
    "\n",
    "# Summarize the Actuals and Predictions\n",
    "y_pred = pd.DataFrame(y_pred, columns = [\"PredLegend\"], index = pkmndata_pred.index)\n",
    "pkmndata_acc = pd.concat([pkmndata_pred[[\"Name\", \"Legendary\"]], y_pred], axis = 1)\n",
    "\n",
    "pkmndata_acc"
   ]
  },
  {
   "cell_type": "code",
   "execution_count": null,
   "id": "68af96bd",
   "metadata": {},
   "outputs": [],
   "source": [
    "# Predict Probabilities corresponding to Predictors\n",
    "y_prob = dectree.predict_proba(X_pred)\n",
    "np.set_printoptions(precision = 3) //for actual probability values, not for Bool\n",
    "y_prob\n",
    "\n",
    "# Summarize the Probabilities with the Predictions\n",
    "y_prob = pd.DataFrame(list(y_prob[:,1]), columns = [\"ProbLegend\"], index = pkmndata_pred.index)\n",
    "pkmndata_conf = pd.concat([pkmndata_acc, y_prob], axis = 1)\n",
    "\n",
    "pkmndata_conf"
   ]
  },
  {
   "cell_type": "code",
   "execution_count": null,
   "id": "19e9035c",
   "metadata": {},
   "outputs": [],
   "source": []
  },
  {
   "cell_type": "code",
   "execution_count": null,
   "id": "18ed4531",
   "metadata": {},
   "outputs": [],
   "source": []
  },
  {
   "cell_type": "code",
   "execution_count": null,
   "id": "dbd074cc",
   "metadata": {},
   "outputs": [],
   "source": []
  },
  {
   "cell_type": "code",
   "execution_count": null,
   "id": "230ba17a",
   "metadata": {},
   "outputs": [],
   "source": []
  },
  {
   "cell_type": "code",
   "execution_count": null,
   "id": "e99b6e02",
   "metadata": {},
   "outputs": [],
   "source": []
  },
  {
   "cell_type": "code",
   "execution_count": null,
   "id": "d3aa304c",
   "metadata": {},
   "outputs": [],
   "source": []
  },
  {
   "cell_type": "code",
   "execution_count": null,
   "id": "cac18962",
   "metadata": {},
   "outputs": [],
   "source": []
  }
 ],
 "metadata": {
  "kernelspec": {
   "display_name": "Python 3 (ipykernel)",
   "language": "python",
   "name": "python3"
  },
  "language_info": {
   "codemirror_mode": {
    "name": "ipython",
    "version": 3
   },
   "file_extension": ".py",
   "mimetype": "text/x-python",
   "name": "python",
   "nbconvert_exporter": "python",
   "pygments_lexer": "ipython3",
   "version": "3.9.13"
  }
 },
 "nbformat": 4,
 "nbformat_minor": 5
}
