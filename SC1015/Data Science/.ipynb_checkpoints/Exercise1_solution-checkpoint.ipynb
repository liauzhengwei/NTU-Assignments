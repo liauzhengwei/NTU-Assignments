{
 "cells": [
  {
   "cell_type": "code",
   "execution_count": 1,
   "id": "c2f785cd",
   "metadata": {},
   "outputs": [],
   "source": [
    "import os\n",
    "import pandas as pd\n",
    "import numpy as np\n",
    "import seaborn as sb\n",
    "import matplotlib.pyplot as plt\n",
    "sb.set()"
   ]
  },
  {
   "cell_type": "code",
   "execution_count": 2,
   "id": "07b4931b",
   "metadata": {},
   "outputs": [
    {
     "data": {
      "text/html": [
       "<div>\n",
       "<style scoped>\n",
       "    .dataframe tbody tr th:only-of-type {\n",
       "        vertical-align: middle;\n",
       "    }\n",
       "\n",
       "    .dataframe tbody tr th {\n",
       "        vertical-align: top;\n",
       "    }\n",
       "\n",
       "    .dataframe thead th {\n",
       "        text-align: right;\n",
       "    }\n",
       "</style>\n",
       "<table border=\"1\" class=\"dataframe\">\n",
       "  <thead>\n",
       "    <tr style=\"text-align: right;\">\n",
       "      <th></th>\n",
       "      <th>0</th>\n",
       "      <th>1</th>\n",
       "      <th>2</th>\n",
       "      <th>3</th>\n",
       "      <th>4</th>\n",
       "      <th>5</th>\n",
       "      <th>6</th>\n",
       "      <th>7</th>\n",
       "      <th>8</th>\n",
       "      <th>9</th>\n",
       "      <th>...</th>\n",
       "      <th>71</th>\n",
       "      <th>72</th>\n",
       "      <th>73</th>\n",
       "      <th>74</th>\n",
       "      <th>75</th>\n",
       "      <th>76</th>\n",
       "      <th>77</th>\n",
       "      <th>78</th>\n",
       "      <th>79</th>\n",
       "      <th>80</th>\n",
       "    </tr>\n",
       "  </thead>\n",
       "  <tbody>\n",
       "    <tr>\n",
       "      <th>0</th>\n",
       "      <td>Id</td>\n",
       "      <td>MSSubClass</td>\n",
       "      <td>MSZoning</td>\n",
       "      <td>LotFrontage</td>\n",
       "      <td>LotArea</td>\n",
       "      <td>Street</td>\n",
       "      <td>Alley</td>\n",
       "      <td>LotShape</td>\n",
       "      <td>LandContour</td>\n",
       "      <td>Utilities</td>\n",
       "      <td>...</td>\n",
       "      <td>PoolArea</td>\n",
       "      <td>PoolQC</td>\n",
       "      <td>Fence</td>\n",
       "      <td>MiscFeature</td>\n",
       "      <td>MiscVal</td>\n",
       "      <td>MoSold</td>\n",
       "      <td>YrSold</td>\n",
       "      <td>SaleType</td>\n",
       "      <td>SaleCondition</td>\n",
       "      <td>SalePrice</td>\n",
       "    </tr>\n",
       "    <tr>\n",
       "      <th>1</th>\n",
       "      <td>1</td>\n",
       "      <td>60</td>\n",
       "      <td>RL</td>\n",
       "      <td>65</td>\n",
       "      <td>8450</td>\n",
       "      <td>Pave</td>\n",
       "      <td>NaN</td>\n",
       "      <td>Reg</td>\n",
       "      <td>Lvl</td>\n",
       "      <td>AllPub</td>\n",
       "      <td>...</td>\n",
       "      <td>0</td>\n",
       "      <td>NaN</td>\n",
       "      <td>NaN</td>\n",
       "      <td>NaN</td>\n",
       "      <td>0</td>\n",
       "      <td>2</td>\n",
       "      <td>2008</td>\n",
       "      <td>WD</td>\n",
       "      <td>Normal</td>\n",
       "      <td>208500</td>\n",
       "    </tr>\n",
       "    <tr>\n",
       "      <th>2</th>\n",
       "      <td>2</td>\n",
       "      <td>20</td>\n",
       "      <td>RL</td>\n",
       "      <td>80</td>\n",
       "      <td>9600</td>\n",
       "      <td>Pave</td>\n",
       "      <td>NaN</td>\n",
       "      <td>Reg</td>\n",
       "      <td>Lvl</td>\n",
       "      <td>AllPub</td>\n",
       "      <td>...</td>\n",
       "      <td>0</td>\n",
       "      <td>NaN</td>\n",
       "      <td>NaN</td>\n",
       "      <td>NaN</td>\n",
       "      <td>0</td>\n",
       "      <td>5</td>\n",
       "      <td>2007</td>\n",
       "      <td>WD</td>\n",
       "      <td>Normal</td>\n",
       "      <td>181500</td>\n",
       "    </tr>\n",
       "    <tr>\n",
       "      <th>3</th>\n",
       "      <td>3</td>\n",
       "      <td>60</td>\n",
       "      <td>RL</td>\n",
       "      <td>68</td>\n",
       "      <td>11250</td>\n",
       "      <td>Pave</td>\n",
       "      <td>NaN</td>\n",
       "      <td>IR1</td>\n",
       "      <td>Lvl</td>\n",
       "      <td>AllPub</td>\n",
       "      <td>...</td>\n",
       "      <td>0</td>\n",
       "      <td>NaN</td>\n",
       "      <td>NaN</td>\n",
       "      <td>NaN</td>\n",
       "      <td>0</td>\n",
       "      <td>9</td>\n",
       "      <td>2008</td>\n",
       "      <td>WD</td>\n",
       "      <td>Normal</td>\n",
       "      <td>223500</td>\n",
       "    </tr>\n",
       "    <tr>\n",
       "      <th>4</th>\n",
       "      <td>4</td>\n",
       "      <td>70</td>\n",
       "      <td>RL</td>\n",
       "      <td>60</td>\n",
       "      <td>9550</td>\n",
       "      <td>Pave</td>\n",
       "      <td>NaN</td>\n",
       "      <td>IR1</td>\n",
       "      <td>Lvl</td>\n",
       "      <td>AllPub</td>\n",
       "      <td>...</td>\n",
       "      <td>0</td>\n",
       "      <td>NaN</td>\n",
       "      <td>NaN</td>\n",
       "      <td>NaN</td>\n",
       "      <td>0</td>\n",
       "      <td>2</td>\n",
       "      <td>2006</td>\n",
       "      <td>WD</td>\n",
       "      <td>Abnorml</td>\n",
       "      <td>140000</td>\n",
       "    </tr>\n",
       "  </tbody>\n",
       "</table>\n",
       "<p>5 rows × 81 columns</p>\n",
       "</div>"
      ],
      "text/plain": [
       "   0           1         2            3        4       5      6         7   \\\n",
       "0  Id  MSSubClass  MSZoning  LotFrontage  LotArea  Street  Alley  LotShape   \n",
       "1   1          60        RL           65     8450    Pave    NaN       Reg   \n",
       "2   2          20        RL           80     9600    Pave    NaN       Reg   \n",
       "3   3          60        RL           68    11250    Pave    NaN       IR1   \n",
       "4   4          70        RL           60     9550    Pave    NaN       IR1   \n",
       "\n",
       "            8          9   ...        71      72     73           74       75  \\\n",
       "0  LandContour  Utilities  ...  PoolArea  PoolQC  Fence  MiscFeature  MiscVal   \n",
       "1          Lvl     AllPub  ...         0     NaN    NaN          NaN        0   \n",
       "2          Lvl     AllPub  ...         0     NaN    NaN          NaN        0   \n",
       "3          Lvl     AllPub  ...         0     NaN    NaN          NaN        0   \n",
       "4          Lvl     AllPub  ...         0     NaN    NaN          NaN        0   \n",
       "\n",
       "       76      77        78             79         80  \n",
       "0  MoSold  YrSold  SaleType  SaleCondition  SalePrice  \n",
       "1       2    2008        WD         Normal     208500  \n",
       "2       5    2007        WD         Normal     181500  \n",
       "3       9    2008        WD         Normal     223500  \n",
       "4       2    2006        WD        Abnorml     140000  \n",
       "\n",
       "[5 rows x 81 columns]"
      ]
     },
     "execution_count": 2,
     "metadata": {},
     "output_type": "execute_result"
    }
   ],
   "source": [
    "csv_data = pd.read_csv('train.csv', header = None)\n",
    "csv_data.head()"
   ]
  },
  {
   "cell_type": "code",
   "execution_count": 3,
   "id": "a2b66f7a",
   "metadata": {},
   "outputs": [
    {
     "name": "stdout",
     "output_type": "stream",
     "text": [
      "Data dims :  (1461, 81)\n"
     ]
    }
   ],
   "source": [
    "print(\"Data dims : \",csv_data.shape) #shape gives row x column"
   ]
  },
  {
   "cell_type": "code",
   "execution_count": 4,
   "id": "a9aa0c22",
   "metadata": {},
   "outputs": [
    {
     "name": "stdout",
     "output_type": "stream",
     "text": [
      "0     object\n",
      "1     object\n",
      "2     object\n",
      "3     object\n",
      "4     object\n",
      "       ...  \n",
      "76    object\n",
      "77    object\n",
      "78    object\n",
      "79    object\n",
      "80    object\n",
      "Length: 81, dtype: object\n"
     ]
    }
   ],
   "source": [
    "print(csv_data.dtypes) #dtypes give data type"
   ]
  },
  {
   "cell_type": "code",
   "execution_count": 5,
   "id": "a85eab8e",
   "metadata": {},
   "outputs": [
    {
     "name": "stdout",
     "output_type": "stream",
     "text": [
      "<class 'pandas.core.frame.DataFrame'>\n",
      "RangeIndex: 1461 entries, 0 to 1460\n",
      "Data columns (total 81 columns):\n",
      " #   Column  Non-Null Count  Dtype \n",
      "---  ------  --------------  ----- \n",
      " 0   0       1461 non-null   object\n",
      " 1   1       1461 non-null   object\n",
      " 2   2       1461 non-null   object\n",
      " 3   3       1202 non-null   object\n",
      " 4   4       1461 non-null   object\n",
      " 5   5       1461 non-null   object\n",
      " 6   6       92 non-null     object\n",
      " 7   7       1461 non-null   object\n",
      " 8   8       1461 non-null   object\n",
      " 9   9       1461 non-null   object\n",
      " 10  10      1461 non-null   object\n",
      " 11  11      1461 non-null   object\n",
      " 12  12      1461 non-null   object\n",
      " 13  13      1461 non-null   object\n",
      " 14  14      1461 non-null   object\n",
      " 15  15      1461 non-null   object\n",
      " 16  16      1461 non-null   object\n",
      " 17  17      1461 non-null   object\n",
      " 18  18      1461 non-null   object\n",
      " 19  19      1461 non-null   object\n",
      " 20  20      1461 non-null   object\n",
      " 21  21      1461 non-null   object\n",
      " 22  22      1461 non-null   object\n",
      " 23  23      1461 non-null   object\n",
      " 24  24      1461 non-null   object\n",
      " 25  25      1453 non-null   object\n",
      " 26  26      1453 non-null   object\n",
      " 27  27      1461 non-null   object\n",
      " 28  28      1461 non-null   object\n",
      " 29  29      1461 non-null   object\n",
      " 30  30      1424 non-null   object\n",
      " 31  31      1424 non-null   object\n",
      " 32  32      1423 non-null   object\n",
      " 33  33      1424 non-null   object\n",
      " 34  34      1461 non-null   object\n",
      " 35  35      1423 non-null   object\n",
      " 36  36      1461 non-null   object\n",
      " 37  37      1461 non-null   object\n",
      " 38  38      1461 non-null   object\n",
      " 39  39      1461 non-null   object\n",
      " 40  40      1461 non-null   object\n",
      " 41  41      1461 non-null   object\n",
      " 42  42      1460 non-null   object\n",
      " 43  43      1461 non-null   object\n",
      " 44  44      1461 non-null   object\n",
      " 45  45      1461 non-null   object\n",
      " 46  46      1461 non-null   object\n",
      " 47  47      1461 non-null   object\n",
      " 48  48      1461 non-null   object\n",
      " 49  49      1461 non-null   object\n",
      " 50  50      1461 non-null   object\n",
      " 51  51      1461 non-null   object\n",
      " 52  52      1461 non-null   object\n",
      " 53  53      1461 non-null   object\n",
      " 54  54      1461 non-null   object\n",
      " 55  55      1461 non-null   object\n",
      " 56  56      1461 non-null   object\n",
      " 57  57      771 non-null    object\n",
      " 58  58      1380 non-null   object\n",
      " 59  59      1380 non-null   object\n",
      " 60  60      1380 non-null   object\n",
      " 61  61      1461 non-null   object\n",
      " 62  62      1461 non-null   object\n",
      " 63  63      1380 non-null   object\n",
      " 64  64      1380 non-null   object\n",
      " 65  65      1461 non-null   object\n",
      " 66  66      1461 non-null   object\n",
      " 67  67      1461 non-null   object\n",
      " 68  68      1461 non-null   object\n",
      " 69  69      1461 non-null   object\n",
      " 70  70      1461 non-null   object\n",
      " 71  71      1461 non-null   object\n",
      " 72  72      8 non-null      object\n",
      " 73  73      282 non-null    object\n",
      " 74  74      55 non-null     object\n",
      " 75  75      1461 non-null   object\n",
      " 76  76      1461 non-null   object\n",
      " 77  77      1461 non-null   object\n",
      " 78  78      1461 non-null   object\n",
      " 79  79      1461 non-null   object\n",
      " 80  80      1461 non-null   object\n",
      "dtypes: object(81)\n",
      "memory usage: 924.7+ KB\n",
      "None\n"
     ]
    }
   ],
   "source": [
    "print(csv_data.info())"
   ]
  },
  {
   "cell_type": "code",
   "execution_count": 6,
   "id": "88cb35a8",
   "metadata": {},
   "outputs": [
    {
     "name": "stdout",
     "output_type": "stream",
     "text": [
      "          0     1     2     3     4     5     6     7     8       9   ...  \\\n",
      "count   1461  1461  1461  1202  1461  1461    92  1461  1461    1461  ...   \n",
      "unique  1461    16     6   111  1074     3     3     5     5       3  ...   \n",
      "top       Id    20    RL    60  7200  Pave  Grvl   Reg   Lvl  AllPub  ...   \n",
      "freq       1   536  1151   143    25  1454    50   925  1311    1459  ...   \n",
      "\n",
      "          71  72     73    74    75    76    77    78      79      80  \n",
      "count   1461   8    282    55  1461  1461  1461  1461    1461    1461  \n",
      "unique     9   4      5     5    22    13     6    10       7     664  \n",
      "top        0  Gd  MnPrv  Shed     0     6  2009    WD  Normal  140000  \n",
      "freq    1453   3    157    49  1408   253   338  1267    1198      20  \n",
      "\n",
      "[4 rows x 81 columns]\n"
     ]
    }
   ],
   "source": [
    "print(csv_data.describe())"
   ]
  },
  {
   "cell_type": "code",
   "execution_count": 7,
   "id": "c20b345f",
   "metadata": {},
   "outputs": [],
   "source": [
    "html_data = pd.read_html('https://en.wikipedia.org/wiki/2016_Summer_Olympics_medal_table')"
   ]
  },
  {
   "cell_type": "code",
   "execution_count": 8,
   "id": "e3f85fc1",
   "metadata": {},
   "outputs": [
    {
     "name": "stdout",
     "output_type": "stream",
     "text": [
      "7\n"
     ]
    }
   ],
   "source": [
    "print(len(html_data)) #number of tables in this page"
   ]
  },
  {
   "cell_type": "code",
   "execution_count": 18,
   "id": "b740fb49",
   "metadata": {},
   "outputs": [
    {
     "name": "stdout",
     "output_type": "stream",
     "text": [
      "                   Rank                   NOC  Gold  Silver  Bronze  Total\n",
      "0                     1         United States    46      37      38    121\n",
      "1                     2         Great Britain    27      23      17     67\n",
      "2                     3                 China    26      18      26     70\n",
      "3                     4                Russia    19      17      20     56\n",
      "4                     5               Germany    17      10      15     42\n",
      "..                  ...                   ...   ...     ...     ...    ...\n",
      "82                   78               Nigeria     0       0       1      1\n",
      "83                   78              Portugal     0       0       1      1\n",
      "84                   78   Trinidad and Tobago     0       0       1      1\n",
      "85                   78  United Arab Emirates     0       0       1      1\n",
      "86  Totals (86 entries)   Totals (86 entries)   306     307     359    972\n",
      "\n",
      "[87 rows x 6 columns]\n"
     ]
    }
   ],
   "source": [
    "print(html_data[2])"
   ]
  },
  {
   "cell_type": "code",
   "execution_count": 20,
   "id": "38e645ab",
   "metadata": {},
   "outputs": [
    {
     "name": "stdout",
     "output_type": "stream",
     "text": [
      "                   Rank                   NOC  Gold  Silver  Bronze  Total\n",
      "0                     1         United States    46      37      38    121\n",
      "1                     2         Great Britain    27      23      17     67\n",
      "2                     3                 China    26      18      26     70\n",
      "3                     4                Russia    19      17      20     56\n",
      "4                     5               Germany    17      10      15     42\n",
      "..                  ...                   ...   ...     ...     ...    ...\n",
      "82                   78               Nigeria     0       0       1      1\n",
      "83                   78              Portugal     0       0       1      1\n",
      "84                   78   Trinidad and Tobago     0       0       1      1\n",
      "85                   78  United Arab Emirates     0       0       1      1\n",
      "86  Totals (86 entries)   Totals (86 entries)   306     307     359    972\n",
      "\n",
      "[87 rows x 6 columns]\n"
     ]
    }
   ],
   "source": [
    "SO2016 = html_data[2]\n",
    "print(SO2016)"
   ]
  },
  {
   "cell_type": "code",
   "execution_count": 21,
   "id": "b2184007",
   "metadata": {},
   "outputs": [
    {
     "name": "stdout",
     "output_type": "stream",
     "text": [
      "   Rank            NOC  Gold  Silver  Bronze  Total\n",
      "0     1  United States    46      37      38    121\n",
      "1     2  Great Britain    27      23      17     67\n",
      "2     3          China    26      18      26     70\n",
      "3     4         Russia    19      17      20     56\n",
      "4     5        Germany    17      10      15     42\n",
      "5     6          Japan    12       8      21     41\n",
      "6     7         France    10      18      14     42\n",
      "7     8    South Korea     9       3       9     21\n",
      "8     9          Italy     8      12       8     28\n",
      "9    10      Australia     8      11      10     29\n",
      "10   11    Netherlands     8       7       4     19\n",
      "11   12        Hungary     8       3       4     15\n",
      "12   13        Brazil*     7       6       6     19\n",
      "13   14          Spain     7       4       6     17\n",
      "14   15          Kenya     6       6       1     13\n",
      "15   16        Jamaica     6       3       2     11\n",
      "16   17        Croatia     5       3       2     10\n",
      "17   18           Cuba     5       2       4     11\n",
      "18   19    New Zealand     4       9       5     18\n",
      "19   20         Canada     4       3      15     22\n"
     ]
    }
   ],
   "source": [
    "top20 = html_data[2].head(n=20)\n",
    "print(top20)"
   ]
  },
  {
   "cell_type": "code",
   "execution_count": null,
   "id": "f07bd8df",
   "metadata": {},
   "outputs": [],
   "source": []
  }
 ],
 "metadata": {
  "kernelspec": {
   "display_name": "Python 3 (ipykernel)",
   "language": "python",
   "name": "python3"
  },
  "language_info": {
   "codemirror_mode": {
    "name": "ipython",
    "version": 3
   },
   "file_extension": ".py",
   "mimetype": "text/x-python",
   "name": "python",
   "nbconvert_exporter": "python",
   "pygments_lexer": "ipython3",
   "version": "3.9.13"
  }
 },
 "nbformat": 4,
 "nbformat_minor": 5
}
