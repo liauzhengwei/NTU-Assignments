{
 "cells": [
  {
   "cell_type": "markdown",
   "metadata": {},
   "source": [
    "# Graphics with Plotly : Simple Examples\n",
    "\n",
    "Dataset from Kaggle : **\"Pokemon with stats\"** by *Alberto Barradas*  \n",
    "Source: https://www.kaggle.com/abcsds/pokemon (requires login)\n",
    "\n",
    "---\n",
    "\n",
    "### Essential Libraries\n",
    "\n",
    "Let us begin by importing the essential Python Libraries.\n",
    "\n",
    "> NumPy : Library for Numeric Computations in Python  \n",
    "> Pandas : Library for Data Acquisition and Preparation  \n",
    "> Matplotlib : Low-level library for Data Visualization  \n",
    "> Seaborn : Higher-level library for Data Visualization  \n",
    "> **Plotly : High-level library for Interactive Graphics**"
   ]
  },
  {
   "cell_type": "code",
   "execution_count": null,
   "metadata": {},
   "outputs": [],
   "source": [
    "# Basic Libraries\n",
    "import numpy as np\n",
    "import pandas as pd\n",
    "import seaborn as sb\n",
    "import matplotlib.pyplot as plt # we only need pyplot\n",
    "sb.set() # set the default Seaborn style for graphics"
   ]
  },
  {
   "cell_type": "markdown",
   "metadata": {},
   "source": [
    "Import the easy-to-use `plotly express` library to try out.      \n",
    "Errors? Try installing plotly : https://anaconda.org/plotly/plotly"
   ]
  },
  {
   "cell_type": "code",
   "execution_count": null,
   "metadata": {},
   "outputs": [],
   "source": [
    "import plotly.express as px"
   ]
  },
  {
   "cell_type": "code",
   "execution_count": null,
   "metadata": {},
   "outputs": [],
   "source": []
  },
  {
   "cell_type": "markdown",
   "metadata": {},
   "source": [
    "---\n",
    "\n",
    "### Import the Dataset\n",
    "\n",
    "The dataset is in CSV format; hence we use the `read_csv` function from Pandas.  \n",
    "Immediately after importing, take a quick look at the data using the `head` function."
   ]
  },
  {
   "cell_type": "code",
   "execution_count": null,
   "metadata": {},
   "outputs": [],
   "source": [
    "pkmndata = pd.read_csv('pokemonData.csv')\n",
    "pkmndata.head()"
   ]
  },
  {
   "cell_type": "markdown",
   "metadata": {},
   "source": [
    "Check the basic information about the dataset, as we always do, using `.info()`."
   ]
  },
  {
   "cell_type": "code",
   "execution_count": null,
   "metadata": {},
   "outputs": [],
   "source": [
    "pkmndata.info()"
   ]
  },
  {
   "cell_type": "code",
   "execution_count": null,
   "metadata": {},
   "outputs": [],
   "source": []
  },
  {
   "cell_type": "markdown",
   "metadata": {},
   "source": [
    "---\n",
    "\n",
    "# Uni-Variate Distributions\n",
    "\n",
    "You can use `plotly` to produce cool uni-variate plots -- boxplots, histograms, etc.     \n",
    "The plots are interactive -- just hover the mouse pointer on top of the plot to find out."
   ]
  },
  {
   "cell_type": "code",
   "execution_count": null,
   "metadata": {},
   "outputs": [],
   "source": [
    "# Boxplot\n",
    "fig = px.box(pkmndata, x = \"Total\")\n",
    "fig.show()"
   ]
  },
  {
   "cell_type": "code",
   "execution_count": null,
   "metadata": {},
   "outputs": [],
   "source": [
    "# Histogram\n",
    "fig = px.histogram(pkmndata, x = \"Total\")\n",
    "fig.show()"
   ]
  },
  {
   "cell_type": "code",
   "execution_count": null,
   "metadata": {},
   "outputs": [],
   "source": [
    "# Countplot\n",
    "fig = px.histogram(pkmndata, x = \"Legendary\")\n",
    "fig.show()"
   ]
  },
  {
   "cell_type": "code",
   "execution_count": null,
   "metadata": {},
   "outputs": [],
   "source": []
  },
  {
   "cell_type": "markdown",
   "metadata": {},
   "source": [
    "---\n",
    "\n",
    "# Bi-Variate Distributions\n",
    "\n",
    "You can use `plotly` to produce cool bi-variate plots and check mutual relationships.     \n",
    "The plots are interactive -- just hover the mouse pointer on top of the plot to find out."
   ]
  },
  {
   "cell_type": "code",
   "execution_count": null,
   "metadata": {},
   "outputs": [],
   "source": [
    "# Boxplot of Numeric across Categorical\n",
    "fig = px.box(pkmndata, x = \"Total\", color = \"Legendary\")\n",
    "fig.show()"
   ]
  },
  {
   "cell_type": "code",
   "execution_count": null,
   "metadata": {},
   "outputs": [],
   "source": [
    "# Histogram of Numeric across Categorical\n",
    "fig = px.histogram(pkmndata, x = \"Total\", color = \"Legendary\")\n",
    "fig.show()"
   ]
  },
  {
   "cell_type": "code",
   "execution_count": null,
   "metadata": {},
   "outputs": [],
   "source": [
    "# Histogram of Numeric across Categorical with Marginals\n",
    "fig = px.histogram(pkmndata, x = \"Total\", color = \"Legendary\", marginal = \"box\")\n",
    "fig.show()"
   ]
  },
  {
   "cell_type": "code",
   "execution_count": null,
   "metadata": {},
   "outputs": [],
   "source": [
    "# Scatterplot of Numeric across Numeric\n",
    "fig = px.scatter(pkmndata, x = \"HP\", y = \"Speed\")\n",
    "fig.show()"
   ]
  },
  {
   "cell_type": "code",
   "execution_count": null,
   "metadata": {},
   "outputs": [],
   "source": [
    "# Scatterplot of Numeric across Numeric with Marginals\n",
    "fig = px.scatter(pkmndata, x = \"HP\", y = \"Speed\", marginal_x = \"box\", marginal_y = \"box\")\n",
    "fig.show()"
   ]
  },
  {
   "cell_type": "code",
   "execution_count": null,
   "metadata": {},
   "outputs": [],
   "source": [
    "# Scatterplot of Numeric across Numeric across Categorical with Marginals\n",
    "fig = px.scatter(pkmndata, x = \"HP\", y = \"Speed\", color = \"Legendary\", marginal_x = \"box\", marginal_y = \"box\")\n",
    "fig.show()"
   ]
  },
  {
   "cell_type": "code",
   "execution_count": null,
   "metadata": {},
   "outputs": [],
   "source": []
  },
  {
   "cell_type": "markdown",
   "metadata": {},
   "source": [
    "---\n",
    "\n",
    "# Multi-Variate Exploration\n",
    "\n",
    "You can of course use `plotly` to explore multiple variables at the same time."
   ]
  },
  {
   "cell_type": "code",
   "execution_count": null,
   "metadata": {},
   "outputs": [],
   "source": [
    "# Extract only the numeric data variables\n",
    "numdata = pd.DataFrame(pkmndata[[\"HP\", \"Attack\", \"Defense\", \"Sp. Atk\", \"Sp. Def\", \"Speed\"]])\n",
    "\n",
    "# Scatter Matrix for Numerics\n",
    "fig = px.scatter_matrix(numdata)\n",
    "fig.show()"
   ]
  },
  {
   "cell_type": "code",
   "execution_count": null,
   "metadata": {},
   "outputs": [],
   "source": [
    "# Scatter Matrix for Numerics across Categorical\n",
    "fig = px.scatter_matrix(pkmndata, \n",
    "                        dimensions=[\"HP\", \"Attack\", \"Defense\", \"Sp. Atk\", \"Sp. Def\", \"Speed\"], \n",
    "                        color = \"Legendary\")\n",
    "fig.show()"
   ]
  },
  {
   "cell_type": "code",
   "execution_count": null,
   "metadata": {},
   "outputs": [],
   "source": []
  },
  {
   "cell_type": "markdown",
   "metadata": {},
   "source": [
    "### References\n",
    "\n",
    "More such Statistical Graphics are demonstrated at https://plotly.com/python/statistical-charts/     \n",
    "Basic charts and plots by Plotly are demostrated at https://plotly.com/python/basic-charts/    \n",
    "Fundamental components of Plotly are illustrated at https://plotly.com/python/plotly-fundamentals/    "
   ]
  },
  {
   "cell_type": "code",
   "execution_count": null,
   "metadata": {},
   "outputs": [],
   "source": []
  },
  {
   "cell_type": "markdown",
   "metadata": {},
   "source": [
    "---\n",
    "\n",
    "# Cool Examples\n",
    "\n",
    "Here are a few cool examples from the `plotly` website. Hover and drag with mouse pointer to explore.\n",
    "\n",
    "### 3D Interactive Plots\n",
    "\n",
    "Check this website for more examples : https://plotly.com/python/3d-charts/"
   ]
  },
  {
   "cell_type": "code",
   "execution_count": null,
   "metadata": {},
   "outputs": [],
   "source": [
    "import plotly.graph_objects as go\n",
    "import numpy as np\n",
    "np.random.seed(1)\n",
    "\n",
    "N = 70\n",
    "\n",
    "fig = go.Figure(data=[go.Mesh3d(x=(70*np.random.randn(N)),\n",
    "                   y=(55*np.random.randn(N)),\n",
    "                   z=(40*np.random.randn(N)),\n",
    "                   opacity=0.5,\n",
    "                   color='rgba(244,22,100,0.6)'\n",
    "                  )])\n",
    "\n",
    "fig.update_layout(\n",
    "    scene = dict(\n",
    "        xaxis = dict(nticks=4, range=[-100,100],),\n",
    "                     yaxis = dict(nticks=4, range=[-50,100],),\n",
    "                     zaxis = dict(nticks=4, range=[-100,100],),),\n",
    "    width=700,\n",
    "    margin=dict(r=20, l=10, b=10, t=10))\n",
    "\n",
    "fig.show()"
   ]
  },
  {
   "cell_type": "code",
   "execution_count": null,
   "metadata": {},
   "outputs": [],
   "source": []
  },
  {
   "cell_type": "markdown",
   "metadata": {},
   "source": [
    "### Choropleth Maps\n",
    "\n",
    "Check this website for more examples : https://plotly.com/python/maps/"
   ]
  },
  {
   "cell_type": "code",
   "execution_count": null,
   "metadata": {},
   "outputs": [],
   "source": [
    "import plotly.express as px\n",
    "\n",
    "df = px.data.election()\n",
    "geojson = px.data.election_geojson()\n",
    "\n",
    "fig = px.choropleth_mapbox(df, geojson=geojson, color=\"winner\",\n",
    "                           locations=\"district\", featureidkey=\"properties.district\",\n",
    "                           center={\"lat\": 45.5517, \"lon\": -73.7073},\n",
    "                           mapbox_style=\"carto-positron\", zoom=9)\n",
    "fig.update_layout(margin={\"r\":0,\"t\":0,\"l\":0,\"b\":0})\n",
    "fig.show()"
   ]
  },
  {
   "cell_type": "code",
   "execution_count": null,
   "metadata": {},
   "outputs": [],
   "source": []
  },
  {
   "cell_type": "markdown",
   "metadata": {},
   "source": [
    "### Interactive Animations\n",
    "\n",
    "Check this website for more examples : https://plotly.com/python/animations/"
   ]
  },
  {
   "cell_type": "code",
   "execution_count": null,
   "metadata": {},
   "outputs": [],
   "source": [
    "import plotly.express as px\n",
    "df = px.data.gapminder()\n",
    "px.scatter(df, x=\"gdpPercap\", y=\"lifeExp\", animation_frame=\"year\", animation_group=\"country\",\n",
    "           size=\"pop\", color=\"continent\", hover_name=\"country\",\n",
    "           log_x=True, size_max=55, range_x=[100,100000], range_y=[25,90])"
   ]
  },
  {
   "cell_type": "code",
   "execution_count": null,
   "metadata": {},
   "outputs": [],
   "source": []
  },
  {
   "cell_type": "markdown",
   "metadata": {},
   "source": [
    "**Find out what else you can do with Plotly!** Explore on your own."
   ]
  },
  {
   "cell_type": "code",
   "execution_count": null,
   "metadata": {},
   "outputs": [],
   "source": []
  },
  {
   "cell_type": "code",
   "execution_count": null,
   "metadata": {},
   "outputs": [],
   "source": []
  }
 ],
 "metadata": {
  "kernelspec": {
   "display_name": "Python 3 (ipykernel)",
   "language": "python",
   "name": "python3"
  },
  "language_info": {
   "codemirror_mode": {
    "name": "ipython",
    "version": 3
   },
   "file_extension": ".py",
   "mimetype": "text/x-python",
   "name": "python",
   "nbconvert_exporter": "python",
   "pygments_lexer": "ipython3",
   "version": "3.9.13"
  }
 },
 "nbformat": 4,
 "nbformat_minor": 2
}
