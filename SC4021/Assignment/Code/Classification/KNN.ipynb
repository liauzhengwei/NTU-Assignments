{
 "cells": [
  {
   "cell_type": "markdown",
   "id": "green-narrow",
   "metadata": {},
   "source": [
    "## KNN (neutral, positive, negative)\n",
    "\n",
    "### Not used in project"
   ]
  },
  {
   "cell_type": "code",
   "execution_count": 1,
   "id": "viral-lancaster",
   "metadata": {},
   "outputs": [],
   "source": [
    "import pandas as pd\n",
    "from sklearn.feature_extraction.text import CountVectorizer\n",
    "from sklearn.neighbors import KNeighborsClassifier\n",
    "from sklearn.metrics import accuracy_score\n",
    "from nltk.corpus import stopwords\n",
    "from nltk.tokenize import word_tokenize\n",
    "import re\n",
    "import nltk"
   ]
  },
  {
   "cell_type": "code",
   "execution_count": 2,
   "id": "centered-basket",
   "metadata": {},
   "outputs": [
    {
     "name": "stdout",
     "output_type": "stream",
     "text": [
      "4709\n",
      "Accuracy: 0.3551784669397308\n"
     ]
    }
   ],
   "source": [
    "# Loading datasets\n",
    "train_df = pd.read_csv('train.csv')\n",
    "test_df = pd.read_csv('test.csv')\n",
    "\n",
    "# Preprocessing function to clean text\n",
    "def preprocess_text(text):\n",
    "    text = text.lower()\n",
    "    text = re.sub(r'\\W', ' ', text)\n",
    "    tokens = word_tokenize(text)\n",
    "    tokens = [word for word in tokens if word not in stopwords.words('english')]\n",
    "    text = ' '.join(tokens)\n",
    "    return text\n",
    "\n",
    "# Preprocess the headlines\n",
    "train_df['Headline'] = train_df['Headline'].apply(preprocess_text)\n",
    "test_df['Headline'] = test_df['Headline'].apply(preprocess_text)\n",
    "\n",
    "#Class count\n",
    "count_neutral, count_positive, count_negative = train_df.Sentiment.value_counts()\n",
    "print(count_negative)\n",
    "\n",
    "#Divide by class\n",
    "dataset_neutral = train_df[train_df['Sentiment'] == 'NEUTRAL']\n",
    "dataset_positive = train_df[train_df['Sentiment'] == 'POSITIVE']\n",
    "dataset_negative = train_df[train_df['Sentiment'] == 'NEGATIVE']\n",
    "\n",
    "dataset_neutral_under = dataset_neutral.sample(count_negative)\n",
    "dataset_positive_under = dataset_positive.sample(count_negative)\n",
    "\n",
    "dataset_balance = pd.concat([dataset_neutral_under, dataset_positive_under, dataset_negative], axis=0)\n",
    "\n",
    "# Vectorizing text\n",
    "vectorizer = CountVectorizer()\n",
    "X_train = vectorizer.fit_transform(dataset_balance['Headline'])\n",
    "X_test = vectorizer.transform(test_df['Headline'])\n",
    "\n",
    "# Labels\n",
    "y_train = dataset_balance['Sentiment']\n",
    "y_test = test_df['Sentiment']\n",
    "\n",
    "# KNN Classifier\n",
    "# You might want to experiment with the 'n_neighbors' parameter\n",
    "# A common starting point is 5, but it's a hyperparameter you can tune\n",
    "classifier = KNeighborsClassifier(n_neighbors=5)\n",
    "\n",
    "# Training\n",
    "classifier.fit(X_train, y_train)\n",
    "\n",
    "# Predicting\n",
    "y_pred = classifier.predict(X_test)\n",
    "\n",
    "# Accuracy\n",
    "accuracy = accuracy_score(y_test, y_pred)\n",
    "print(f'Accuracy: {accuracy}')\n"
   ]
  },
  {
   "cell_type": "code",
   "execution_count": 3,
   "id": "active-pendant",
   "metadata": {},
   "outputs": [
    {
     "data": {
      "text/plain": [
       "0.3165593914569924"
      ]
     },
     "execution_count": 3,
     "metadata": {},
     "output_type": "execute_result"
    }
   ],
   "source": [
    "0.3165593914569924"
   ]
  },
  {
   "cell_type": "code",
   "execution_count": null,
   "id": "chemical-dialogue",
   "metadata": {},
   "outputs": [],
   "source": []
  },
  {
   "cell_type": "code",
   "execution_count": null,
   "id": "secondary-glossary",
   "metadata": {},
   "outputs": [],
   "source": []
  },
  {
   "cell_type": "markdown",
   "id": "electronic-think",
   "metadata": {},
   "source": [
    "## KNN (positive, negative)"
   ]
  },
  {
   "cell_type": "code",
   "execution_count": 4,
   "id": "african-candidate",
   "metadata": {},
   "outputs": [
    {
     "name": "stdout",
     "output_type": "stream",
     "text": [
      "4709\n",
      "Accuracy: 0.5045492142266336\n"
     ]
    }
   ],
   "source": [
    "# Loading datasets\n",
    "train_df = pd.read_csv('train_pos_neg.csv')\n",
    "test_df = pd.read_csv('test_pos_neg.csv')\n",
    "\n",
    "# Preprocessing function to clean text\n",
    "def preprocess_text(text):\n",
    "    text = text.lower()\n",
    "    text = re.sub(r'\\W', ' ', text)\n",
    "    tokens = word_tokenize(text)\n",
    "    tokens = [word for word in tokens if word not in stopwords.words('english')]\n",
    "    text = ' '.join(tokens)\n",
    "    return text\n",
    "\n",
    "# Preprocess the headlines\n",
    "train_df['Headline'] = train_df['Headline'].apply(preprocess_text)\n",
    "test_df['Headline'] = test_df['Headline'].apply(preprocess_text)\n",
    "\n",
    "#Class count\n",
    "count_positive, count_negative = train_df.Sentiment.value_counts()\n",
    "print(count_negative)\n",
    "\n",
    "#Divide by class\n",
    "dataset_positive = train_df[train_df['Sentiment'] == 'POSITIVE']\n",
    "dataset_negative = train_df[train_df['Sentiment'] == 'NEGATIVE']\n",
    "\n",
    "dataset_positive_under = dataset_positive.sample(count_negative)\n",
    "\n",
    "dataset_balance = pd.concat([dataset_positive_under, dataset_negative], axis=0)\n",
    "\n",
    "# Vectorizing text\n",
    "vectorizer = CountVectorizer()\n",
    "X_train = vectorizer.fit_transform(dataset_balance['Headline'])\n",
    "X_test = vectorizer.transform(test_df['Headline'])\n",
    "\n",
    "# Labels\n",
    "y_train = dataset_balance['Sentiment']\n",
    "y_test = test_df['Sentiment']\n",
    "\n",
    "# KNN Classifier\n",
    "# You might want to experiment with the 'n_neighbors' parameter\n",
    "# A common starting point is 5, but it's a hyperparameter you can tune\n",
    "classifier = KNeighborsClassifier(n_neighbors=5)\n",
    "\n",
    "# Training\n",
    "classifier.fit(X_train, y_train)\n",
    "\n",
    "# Predicting\n",
    "y_pred = classifier.predict(X_test)\n",
    "\n",
    "# Accuracy\n",
    "accuracy = accuracy_score(y_test, y_pred)\n",
    "print(f'Accuracy: {accuracy}')\n"
   ]
  },
  {
   "cell_type": "code",
   "execution_count": 5,
   "id": "educated-tongue",
   "metadata": {},
   "outputs": [
    {
     "name": "stdout",
     "output_type": "stream",
     "text": [
      "              precision    recall  f1-score   support\n",
      "\n",
      "    NEGATIVE       0.50      0.23      0.32       601\n",
      "    POSITIVE       0.50      0.77      0.61       608\n",
      "\n",
      "    accuracy                           0.50      1209\n",
      "   macro avg       0.50      0.50      0.46      1209\n",
      "weighted avg       0.50      0.50      0.46      1209\n",
      "\n"
     ]
    }
   ],
   "source": [
    "from sklearn.metrics import classification_report,confusion_matrix,accuracy_score\n",
    "\n",
    "#Classification report for tfidf features\n",
    "knn_report=classification_report(y_test,y_pred)\n",
    "print(knn_report)"
   ]
  },
  {
   "cell_type": "code",
   "execution_count": null,
   "id": "gentle-empty",
   "metadata": {},
   "outputs": [],
   "source": []
  },
  {
   "cell_type": "markdown",
   "id": "through-fighter",
   "metadata": {},
   "source": [
    "## KNN (neutral, opinionated)"
   ]
  },
  {
   "cell_type": "code",
   "execution_count": 6,
   "id": "rotary-discrimination",
   "metadata": {},
   "outputs": [
    {
     "name": "stdout",
     "output_type": "stream",
     "text": [
      "10617\n",
      "Accuracy: 0.41720304271503805\n"
     ]
    }
   ],
   "source": [
    "# Loading datasets\n",
    "train_df = pd.read_csv('train_neu_opi.csv')\n",
    "test_df = pd.read_csv('test_neu_opi.csv')\n",
    "\n",
    "# Preprocessing function to clean text\n",
    "def preprocess_text(text):\n",
    "    text = text.lower()\n",
    "    text = re.sub(r'\\W', ' ', text)\n",
    "    tokens = word_tokenize(text)\n",
    "    tokens = [word for word in tokens if word not in stopwords.words('english')]\n",
    "    text = ' '.join(tokens)\n",
    "    return text\n",
    "\n",
    "# Preprocess the headlines\n",
    "train_df['Headline'] = train_df['Headline'].apply(preprocess_text)\n",
    "test_df['Headline'] = test_df['Headline'].apply(preprocess_text)\n",
    "\n",
    "#Class count\n",
    "count_opinionated, count_neutral = train_df.Sentiment.value_counts()\n",
    "print(count_neutral)\n",
    "\n",
    "#Divide by class\n",
    "dataset_opinionated = train_df[train_df['Sentiment'] == 'OPINIONATED']\n",
    "dataset_neutral = train_df[train_df['Sentiment'] == 'NEUTRAL']\n",
    "\n",
    "dataset_opinionated_under = dataset_opinionated.sample(count_neutral)\n",
    "\n",
    "dataset_balance = pd.concat([dataset_opinionated_under, dataset_neutral], axis=0)\n",
    "\n",
    "# Vectorizing text\n",
    "vectorizer = CountVectorizer()\n",
    "X_train = vectorizer.fit_transform(dataset_balance['Headline'])\n",
    "X_test = vectorizer.transform(test_df['Headline'])\n",
    "\n",
    "# Labels\n",
    "y_train = dataset_balance['Sentiment']\n",
    "y_test = test_df['Sentiment']\n",
    "\n",
    "# KNN Classifier\n",
    "# You might want to experiment with the 'n_neighbors' parameter\n",
    "# A common starting point is 5, but it's a hyperparameter you can tune\n",
    "classifier = KNeighborsClassifier(n_neighbors=5)\n",
    "\n",
    "# Training\n",
    "classifier.fit(X_train, y_train)\n",
    "\n",
    "# Predicting\n",
    "y_pred = classifier.predict(X_test)\n",
    "\n",
    "# Accuracy\n",
    "accuracy = accuracy_score(y_test, y_pred)\n",
    "print(f'Accuracy: {accuracy}')\n"
   ]
  },
  {
   "cell_type": "code",
   "execution_count": 7,
   "id": "loving-dodge",
   "metadata": {},
   "outputs": [
    {
     "name": "stdout",
     "output_type": "stream",
     "text": [
      "              precision    recall  f1-score   support\n",
      "\n",
      "     NEUTRAL       0.32      0.85      0.46       500\n",
      " OPINIONATED       0.79      0.24      0.37      1209\n",
      "\n",
      "    accuracy                           0.42      1709\n",
      "   macro avg       0.55      0.54      0.41      1709\n",
      "weighted avg       0.65      0.42      0.39      1709\n",
      "\n"
     ]
    }
   ],
   "source": [
    "from sklearn.metrics import classification_report,confusion_matrix,accuracy_score\n",
    "\n",
    "#Classification report for tfidf features\n",
    "knn_report=classification_report(y_test,y_pred)\n",
    "print(knn_report)"
   ]
  },
  {
   "cell_type": "code",
   "execution_count": null,
   "id": "organized-manchester",
   "metadata": {},
   "outputs": [],
   "source": []
  }
 ],
 "metadata": {
  "kernelspec": {
   "display_name": "classify",
   "language": "python",
   "name": "classify"
  },
  "language_info": {
   "codemirror_mode": {
    "name": "ipython",
    "version": 3
   },
   "file_extension": ".py",
   "mimetype": "text/x-python",
   "name": "python",
   "nbconvert_exporter": "python",
   "pygments_lexer": "ipython3",
   "version": "3.10.13"
  }
 },
 "nbformat": 4,
 "nbformat_minor": 5
}
