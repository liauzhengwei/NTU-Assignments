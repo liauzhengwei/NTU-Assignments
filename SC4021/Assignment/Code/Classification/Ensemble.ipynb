{
 "cells": [
  {
   "cell_type": "markdown",
   "id": "medieval-murder",
   "metadata": {},
   "source": [
    "## 1. Polarity detection (positive and negative)\n",
    "### Train: train_pos_neg.csv, Test: test_pos_neg.csv\n",
    "\n",
    "#### Training data source: different datasets combined\n",
    "\n",
    "Both train_pos_neg.csv and test_pos_neg.csv has positive and negative labels"
   ]
  },
  {
   "cell_type": "code",
   "execution_count": 19,
   "id": "incorporated-textbook",
   "metadata": {},
   "outputs": [],
   "source": [
    "import pandas as pd\n",
    "import string\n",
    "import numpy as np\n",
    "from nltk.tokenize import word_tokenize\n",
    "from nltk import pos_tag\n",
    "from nltk.corpus import stopwords\n",
    "from nltk.stem import WordNetLemmatizer\n",
    "from sklearn.preprocessing import LabelEncoder\n",
    "from collections import defaultdict\n",
    "from nltk.corpus import wordnet as wn\n",
    "from sklearn.feature_extraction.text import TfidfVectorizer\n",
    "from sklearn import model_selection, svm\n",
    "from sklearn.metrics import accuracy_score\n",
    "import matplotlib.pyplot as plt\n",
    "import nltk\n",
    "from joblib import load\n",
    "import pickle\n",
    "from sklearn.feature_extraction.text import TfidfVectorizer\n",
    "from joblib import load"
   ]
  },
  {
   "cell_type": "code",
   "execution_count": null,
   "id": "nonprofit-popularity",
   "metadata": {},
   "outputs": [],
   "source": []
  },
  {
   "cell_type": "code",
   "execution_count": 2,
   "id": "beneficial-cookie",
   "metadata": {},
   "outputs": [],
   "source": [
    "dfTrain = pd.read_csv(\"train_pos_neg_preprocessed.csv\", encoding = 'ISO-8859-1')\n",
    "dfTest = pd.read_csv(\"test_pos_neg_preprocessed.csv\", encoding = 'ISO-8859-1')"
   ]
  },
  {
   "cell_type": "code",
   "execution_count": 3,
   "id": "rational-implement",
   "metadata": {},
   "outputs": [
    {
     "name": "stdout",
     "output_type": "stream",
     "text": [
      "4709\n"
     ]
    },
    {
     "data": {
      "image/png": "[encoded data removed]",
      "text/plain": [
       "<Figure size 640x480 with 1 Axes>"
      ]
     },
     "metadata": {},
     "output_type": "display_data"
    }
   ],
   "source": [
    "#Class count\n",
    "count_positive, count_negative = dfTrain.Sentiment.value_counts()\n",
    "print(count_negative)\n",
    "\n",
    "#Divide by class\n",
    "dataset_positive = dfTrain[dfTrain['Sentiment'] == 'POSITIVE']\n",
    "dataset_negative = dfTrain[dfTrain['Sentiment'] == 'NEGATIVE']\n",
    "\n",
    "dataset_positive_under = dataset_positive.sample(count_negative)\n",
    "\n",
    "dataset_balance = pd.concat([dataset_positive_under, dataset_negative], axis=0)\n",
    "dataset_balance.Sentiment.value_counts().plot(kind='bar');"
   ]
  },
  {
   "cell_type": "code",
   "execution_count": 4,
   "id": "revolutionary-complex",
   "metadata": {},
   "outputs": [],
   "source": [
    "# #Split the model into Train and Test Dataset\n",
    "# X_train, X_test, y_train, y_test = model_selection.train_test_split(dataset_balance['Headline_final'],dataset_balance['Label'],test_size=0.3)\n",
    "\n",
    "\n",
    "X_train, y_train = dataset_balance['Headline_final'], dataset_balance['Sentiment']\n",
    "X_test, y_test = dfTest['Headline_final'], dfTest['Sentiment']"
   ]
  },
  {
   "cell_type": "code",
   "execution_count": null,
   "id": "assured-ground",
   "metadata": {},
   "outputs": [],
   "source": []
  },
  {
   "cell_type": "code",
   "execution_count": null,
   "id": "tutorial-filter",
   "metadata": {},
   "outputs": [],
   "source": []
  },
  {
   "cell_type": "markdown",
   "id": "australian-possible",
   "metadata": {},
   "source": [
    "# Ensemble Voting Method"
   ]
  },
  {
   "cell_type": "markdown",
   "id": "faced-forward",
   "metadata": {},
   "source": [
    "### Ensemble soft voting method using random forest, svm, and logistic regression with unigrams"
   ]
  },
  {
   "cell_type": "code",
   "execution_count": 8,
   "id": "coated-advocate",
   "metadata": {},
   "outputs": [
    {
     "name": "stdout",
     "output_type": "stream",
     "text": [
      "Accuracy of ensemble model: 0.7460711331679074\n",
      "Classification report:\n",
      "               precision    recall  f1-score   support\n",
      "\n",
      "    NEGATIVE       0.83      0.62      0.71       601\n",
      "    POSITIVE       0.70      0.87      0.78       608\n",
      "\n",
      "    accuracy                           0.75      1209\n",
      "   macro avg       0.76      0.75      0.74      1209\n",
      "weighted avg       0.76      0.75      0.74      1209\n",
      "\n"
     ]
    }
   ],
   "source": [
    "from sklearn.feature_extraction.text import TfidfVectorizer\n",
    "from sklearn.ensemble import RandomForestClassifier, VotingClassifier\n",
    "from sklearn.linear_model import LogisticRegression\n",
    "from sklearn.svm import SVC\n",
    "from sklearn.pipeline import Pipeline\n",
    "from sklearn.metrics import accuracy_score, classification_report\n",
    "\n",
    "# Assuming X_train, X_test, y_train, y_test are already defined as per your dataset\n",
    "\n",
    "# Define pipelines for each of the classifiers including the TF-IDF vectorization\n",
    "rf_pipeline = Pipeline([\n",
    "    ('tfidf', TfidfVectorizer()),\n",
    "    ('random_forest', RandomForestClassifier(n_estimators=100, random_state=42))\n",
    "])\n",
    "\n",
    "svm_pipeline = Pipeline([\n",
    "    ('tfidf', TfidfVectorizer()),\n",
    "    ('svm', SVC(probability=True, random_state=42))  # Enable probability for soft voting\n",
    "])\n",
    "\n",
    "\n",
    "lr_pipeline = Pipeline([\n",
    "    ('tfidf', TfidfVectorizer()),\n",
    "    ('logreg', LogisticRegression(random_state=42))  # Enable probability for soft voting\n",
    "])\n",
    "\n",
    "\n",
    "# Create the ensemble model using voting classifier\n",
    "# Here 'voting' is set to 'hard'. Change to 'soft' for soft voting if desired\n",
    "voting_clf = VotingClassifier(estimators=[\n",
    "    ('rf', rf_pipeline),\n",
    "    ('svm', svm_pipeline),\n",
    "    ('lr', lr_pipeline)\n",
    "], voting='soft')\n",
    "\n",
    "# Train the ensemble model\n",
    "voting_clf.fit(X_train, y_train)\n",
    "\n",
    "# Predict with the ensemble model\n",
    "predictions = voting_clf.predict(X_test)\n",
    "\n",
    "# Evaluate the ensemble model\n",
    "accuracy = accuracy_score(y_test, predictions)\n",
    "print(f\"Accuracy of ensemble model: {accuracy}\")\n",
    "print(\"Classification report:\\n\", classification_report(y_test, predictions))\n"
   ]
  },
  {
   "cell_type": "code",
   "execution_count": null,
   "id": "outside-rental",
   "metadata": {},
   "outputs": [],
   "source": []
  },
  {
   "cell_type": "markdown",
   "id": "artificial-joining",
   "metadata": {},
   "source": [
    "### Ensemble soft voting method using random forest, svm, and logistic regression with unigrams and bigrams"
   ]
  },
  {
   "cell_type": "code",
   "execution_count": 22,
   "id": "golden-stockholm",
   "metadata": {},
   "outputs": [
    {
     "name": "stdout",
     "output_type": "stream",
     "text": [
      "Accuracy of ensemble model: 0.7411083540115798\n",
      "Classification report:\n",
      "               precision    recall  f1-score   support\n",
      "\n",
      "    NEGATIVE       0.81      0.63      0.71       601\n",
      "    POSITIVE       0.70      0.85      0.77       608\n",
      "\n",
      "    accuracy                           0.74      1209\n",
      "   macro avg       0.75      0.74      0.74      1209\n",
      "weighted avg       0.75      0.74      0.74      1209\n",
      "\n"
     ]
    }
   ],
   "source": [
    "from sklearn.feature_extraction.text import TfidfVectorizer\n",
    "from sklearn.ensemble import RandomForestClassifier, VotingClassifier\n",
    "from sklearn.linear_model import LogisticRegression\n",
    "from sklearn.svm import SVC\n",
    "from sklearn.pipeline import Pipeline\n",
    "from sklearn.metrics import accuracy_score, classification_report\n",
    "\n",
    "# Assuming X_train, X_test, y_train, y_test are already defined as per your dataset\n",
    "\n",
    "# Define pipelines for each of the classifiers including the TF-IDF vectorization\n",
    "rf_pipeline = Pipeline([\n",
    "    ('tfidf', TfidfVectorizer(ngram_range=(1,2))),\n",
    "    ('random_forest', RandomForestClassifier(n_estimators=100, random_state=42))\n",
    "])\n",
    "\n",
    "svm_pipeline = Pipeline([\n",
    "    ('tfidf', TfidfVectorizer(ngram_range=(1,2))),\n",
    "    ('svm', SVC(probability=True, random_state=42))  # Enable probability for soft voting\n",
    "])\n",
    "\n",
    "\n",
    "lr_pipeline = Pipeline([\n",
    "    ('tfidf', TfidfVectorizer(ngram_range=(1,2))),\n",
    "    ('logreg', LogisticRegression(random_state=42))  # Enable probability for soft voting\n",
    "])\n",
    "\n",
    "\n",
    "# Create the ensemble model using voting classifier\n",
    "# Here 'voting' is set to 'hard'. Change to 'soft' for soft voting if desired\n",
    "voting_clf = VotingClassifier(estimators=[\n",
    "    ('rf', rf_pipeline),\n",
    "    ('svm', svm_pipeline),\n",
    "    ('lr', lr_pipeline)\n",
    "], voting='soft')\n",
    "\n",
    "# Train the ensemble model\n",
    "voting_clf.fit(X_train, y_train)\n",
    "\n",
    "# Predict with the ensemble model\n",
    "predictions = voting_clf.predict(X_test)\n",
    "\n",
    "# Evaluate the ensemble model\n",
    "accuracy = accuracy_score(y_test, predictions)\n",
    "print(f\"Accuracy of ensemble model: {accuracy}\")\n",
    "print(\"Classification report:\\n\", classification_report(y_test, predictions))\n"
   ]
  },
  {
   "cell_type": "code",
   "execution_count": null,
   "id": "graduate-pattern",
   "metadata": {},
   "outputs": [],
   "source": []
  },
  {
   "cell_type": "code",
   "execution_count": null,
   "id": "healthy-cradle",
   "metadata": {},
   "outputs": [],
   "source": []
  },
  {
   "cell_type": "markdown",
   "id": "reliable-school",
   "metadata": {},
   "source": [
    "### Ensemble hard voting method using random forest, svm, and logistic regression with unigrams"
   ]
  },
  {
   "cell_type": "code",
   "execution_count": 10,
   "id": "established-bidder",
   "metadata": {},
   "outputs": [
    {
     "name": "stdout",
     "output_type": "stream",
     "text": [
      "Accuracy of ensemble model: 0.7377998345740281\n",
      "Classification report:\n",
      "               precision    recall  f1-score   support\n",
      "\n",
      "    NEGATIVE       0.83      0.60      0.69       601\n",
      "    POSITIVE       0.69      0.88      0.77       608\n",
      "\n",
      "    accuracy                           0.74      1209\n",
      "   macro avg       0.76      0.74      0.73      1209\n",
      "weighted avg       0.76      0.74      0.73      1209\n",
      "\n"
     ]
    }
   ],
   "source": [
    "from sklearn.feature_extraction.text import TfidfVectorizer\n",
    "from sklearn.ensemble import RandomForestClassifier, VotingClassifier\n",
    "from sklearn.linear_model import LogisticRegression\n",
    "from sklearn.svm import SVC\n",
    "from sklearn.pipeline import Pipeline\n",
    "from sklearn.metrics import accuracy_score, classification_report\n",
    "\n",
    "# Assuming X_train, X_test, y_train, y_test are already defined as per your dataset\n",
    "\n",
    "# Define pipelines for each of the classifiers including the TF-IDF vectorization\n",
    "rf_pipeline = Pipeline([\n",
    "    ('tfidf', TfidfVectorizer()),\n",
    "    ('random_forest', RandomForestClassifier(n_estimators=100, random_state=42))\n",
    "])\n",
    "\n",
    "svm_pipeline = Pipeline([\n",
    "    ('tfidf', TfidfVectorizer()),\n",
    "    ('svm', SVC(probability=True, random_state=42))  # Enable probability for soft voting\n",
    "])\n",
    "\n",
    "\n",
    "lr_pipeline = Pipeline([\n",
    "    ('tfidf', TfidfVectorizer()),\n",
    "    ('logreg', LogisticRegression(random_state=42))  # Enable probability for soft voting\n",
    "])\n",
    "\n",
    "\n",
    "# Create the ensemble model using voting classifier\n",
    "# Here 'voting' is set to 'hard'. Change to 'soft' for soft voting if desired\n",
    "voting_clf = VotingClassifier(estimators=[\n",
    "    ('rf', rf_pipeline),\n",
    "    ('svm', svm_pipeline),\n",
    "    ('lr', lr_pipeline)\n",
    "], voting='hard')\n",
    "\n",
    "# Train the ensemble model\n",
    "voting_clf.fit(X_train, y_train)\n",
    "\n",
    "# Predict with the ensemble model\n",
    "predictions = voting_clf.predict(X_test)\n",
    "\n",
    "# Evaluate the ensemble model\n",
    "accuracy = accuracy_score(y_test, predictions)\n",
    "print(f\"Accuracy of ensemble model: {accuracy}\")\n",
    "print(\"Classification report:\\n\", classification_report(y_test, predictions))\n"
   ]
  },
  {
   "cell_type": "code",
   "execution_count": null,
   "id": "adjustable-medicare",
   "metadata": {},
   "outputs": [],
   "source": []
  },
  {
   "cell_type": "markdown",
   "id": "surprised-mandate",
   "metadata": {},
   "source": [
    "### Ensemble hard voting method using random forest, svm, and logistic regression with unigrams and bigrams"
   ]
  },
  {
   "cell_type": "code",
   "execution_count": 23,
   "id": "original-climate",
   "metadata": {},
   "outputs": [
    {
     "name": "stdout",
     "output_type": "stream",
     "text": [
      "Accuracy of ensemble model: 0.739454094292804\n",
      "Classification report:\n",
      "               precision    recall  f1-score   support\n",
      "\n",
      "    NEGATIVE       0.82      0.61      0.70       601\n",
      "    POSITIVE       0.69      0.87      0.77       608\n",
      "\n",
      "    accuracy                           0.74      1209\n",
      "   macro avg       0.76      0.74      0.73      1209\n",
      "weighted avg       0.76      0.74      0.74      1209\n",
      "\n"
     ]
    }
   ],
   "source": [
    "from sklearn.feature_extraction.text import TfidfVectorizer\n",
    "from sklearn.ensemble import RandomForestClassifier, VotingClassifier\n",
    "from sklearn.linear_model import LogisticRegression\n",
    "from sklearn.svm import SVC\n",
    "from sklearn.pipeline import Pipeline\n",
    "from sklearn.metrics import accuracy_score, classification_report\n",
    "\n",
    "# Assuming X_train, X_test, y_train, y_test are already defined as per your dataset\n",
    "\n",
    "# Define pipelines for each of the classifiers including the TF-IDF vectorization\n",
    "rf_pipeline = Pipeline([\n",
    "    ('tfidf', TfidfVectorizer(ngram_range=(1,2))),\n",
    "    ('random_forest', RandomForestClassifier(n_estimators=100, random_state=42))\n",
    "])\n",
    "\n",
    "svm_pipeline = Pipeline([\n",
    "    ('tfidf', TfidfVectorizer(ngram_range=(1,2))),\n",
    "    ('svm', SVC(probability=True, random_state=42))  # Enable probability for soft voting\n",
    "])\n",
    "\n",
    "\n",
    "lr_pipeline = Pipeline([\n",
    "    ('tfidf', TfidfVectorizer(ngram_range=(1,2))),\n",
    "    ('logreg', LogisticRegression(random_state=42))  # Enable probability for soft voting\n",
    "])\n",
    "\n",
    "\n",
    "# Create the ensemble model using voting classifier\n",
    "# Here 'voting' is set to 'hard'. Change to 'soft' for soft voting if desired\n",
    "voting_clf = VotingClassifier(estimators=[\n",
    "    ('rf', rf_pipeline),\n",
    "    ('svm', svm_pipeline),\n",
    "    ('lr', lr_pipeline)\n",
    "], voting='hard')\n",
    "\n",
    "# Train the ensemble model\n",
    "voting_clf.fit(X_train, y_train)\n",
    "\n",
    "# Predict with the ensemble model\n",
    "predictions = voting_clf.predict(X_test)\n",
    "\n",
    "# Evaluate the ensemble model\n",
    "accuracy = accuracy_score(y_test, predictions)\n",
    "print(f\"Accuracy of ensemble model: {accuracy}\")\n",
    "print(\"Classification report:\\n\", classification_report(y_test, predictions))\n"
   ]
  },
  {
   "cell_type": "code",
   "execution_count": null,
   "id": "exposed-wheat",
   "metadata": {},
   "outputs": [],
   "source": []
  },
  {
   "cell_type": "markdown",
   "id": "vocal-salad",
   "metadata": {},
   "source": [
    "### Ensemble hard voting method using random forest and SVM\n",
    "### Not used in Project"
   ]
  },
  {
   "cell_type": "code",
   "execution_count": 11,
   "id": "concerned-charger",
   "metadata": {},
   "outputs": [
    {
     "name": "stdout",
     "output_type": "stream",
     "text": [
      "Accuracy of ensemble model: 0.7460711331679074\n",
      "Classification report:\n",
      "               precision    recall  f1-score   support\n",
      "\n",
      "    NEGATIVE       0.79      0.67      0.72       601\n",
      "    POSITIVE       0.72      0.82      0.76       608\n",
      "\n",
      "    accuracy                           0.75      1209\n",
      "   macro avg       0.75      0.75      0.74      1209\n",
      "weighted avg       0.75      0.75      0.74      1209\n",
      "\n"
     ]
    }
   ],
   "source": [
    "from sklearn.feature_extraction.text import TfidfVectorizer\n",
    "from sklearn.ensemble import RandomForestClassifier, VotingClassifier\n",
    "from sklearn.svm import SVC\n",
    "from sklearn.pipeline import Pipeline\n",
    "from sklearn.metrics import accuracy_score, classification_report\n",
    "\n",
    "# Assuming X_train, X_test, y_train, y_test are already defined as per your dataset\n",
    "\n",
    "# Define pipelines for each of the classifiers including the TF-IDF vectorization\n",
    "rf_pipeline = Pipeline([\n",
    "    ('tfidf', TfidfVectorizer()),\n",
    "    ('random_forest', RandomForestClassifier(n_estimators=100, random_state=42))\n",
    "])\n",
    "\n",
    "svm_pipeline = Pipeline([\n",
    "    ('tfidf', TfidfVectorizer()),\n",
    "    ('svm', SVC(probability=True, random_state=42))  # Enable probability for soft voting\n",
    "])\n",
    "\n",
    "# Create the ensemble model using voting classifier\n",
    "# Here 'voting' is set to 'hard'. Change to 'soft' for soft voting if desired\n",
    "voting_clf = VotingClassifier(estimators=[\n",
    "    ('rf', rf_pipeline),\n",
    "    ('svm', svm_pipeline)\n",
    "], voting='hard')\n",
    "\n",
    "# Train the ensemble model\n",
    "voting_clf.fit(X_train, y_train)\n",
    "\n",
    "# Predict with the ensemble model\n",
    "predictions = voting_clf.predict(X_test)\n",
    "\n",
    "# Evaluate the ensemble model\n",
    "accuracy = accuracy_score(y_test, predictions)\n",
    "print(f\"Accuracy of ensemble model: {accuracy}\")\n",
    "print(\"Classification report:\\n\", classification_report(y_test, predictions))\n"
   ]
  },
  {
   "cell_type": "code",
   "execution_count": null,
   "id": "endless-slope",
   "metadata": {},
   "outputs": [],
   "source": []
  },
  {
   "cell_type": "code",
   "execution_count": null,
   "id": "visible-concern",
   "metadata": {},
   "outputs": [],
   "source": []
  },
  {
   "cell_type": "markdown",
   "id": "fluid-leone",
   "metadata": {},
   "source": [
    "# Ensemble Stacking Methods"
   ]
  },
  {
   "cell_type": "markdown",
   "id": "southwest-depression",
   "metadata": {},
   "source": [
    "### Ensemble stacking method using ZhengWei logreg and MJ SVM with unigram\n",
    "### Not used in project"
   ]
  },
  {
   "cell_type": "code",
   "execution_count": 20,
   "id": "external-separate",
   "metadata": {},
   "outputs": [
    {
     "name": "stderr",
     "output_type": "stream",
     "text": [
      "C:\\Users\\Beh Ming Jun\\anaconda3\\envs\\classify\\lib\\site-packages\\sklearn\\base.py:347: InconsistentVersionWarning: Trying to unpickle estimator LogisticRegression from version 1.2.2 when using version 1.3.0. This might lead to breaking code or invalid results. Use at your own risk. For more info please refer to:\n",
      "https://scikit-learn.org/stable/model_persistence.html#security-maintainability-limitations\n",
      "  warnings.warn(\n"
     ]
    },
    {
     "name": "stdout",
     "output_type": "stream",
     "text": [
      "Accuracy of stacking ensemble model: 0.7543424317617866\n",
      "Classification report:\n",
      "               precision    recall  f1-score   support\n",
      "\n",
      "    NEGATIVE       0.78      0.70      0.74       601\n",
      "    POSITIVE       0.73      0.81      0.77       608\n",
      "\n",
      "    accuracy                           0.75      1209\n",
      "   macro avg       0.76      0.75      0.75      1209\n",
      "weighted avg       0.76      0.75      0.75      1209\n",
      "\n"
     ]
    }
   ],
   "source": [
    "from sklearn.feature_extraction.text import TfidfVectorizer\n",
    "from sklearn.ensemble import RandomForestClassifier, StackingClassifier\n",
    "from sklearn.svm import SVC\n",
    "from sklearn.linear_model import LogisticRegression\n",
    "from sklearn.pipeline import make_pipeline\n",
    "from sklearn.naive_bayes import MultinomialNB\n",
    "from sklearn.metrics import accuracy_score, classification_report\n",
    "\n",
    "logreg_model = load(\"logreg_model_posneg.joblib\")\n",
    "\n",
    "# Update: Adding Logistic Regression and Multinomial Naive Bayes to the base classifiers\n",
    "base_classifiers = [\n",
    "    ('rf_pipeline', make_pipeline(TfidfVectorizer(), RandomForestClassifier(n_estimators=100, random_state=42))),\n",
    "    ('svm_pipeline', make_pipeline(TfidfVectorizer(), SVC(probability=True, random_state=42))),\n",
    "    ('lr_pipeline', make_pipeline(TfidfVectorizer(), logreg_model))\n",
    "]\n",
    "\n",
    "# Keeping Logistic Regression as the meta-classifier\n",
    "meta_classifier = LogisticRegression(random_state=42)\n",
    "\n",
    "# Define the stacking ensemble model\n",
    "stacking_clf = StackingClassifier(estimators=base_classifiers, final_estimator=meta_classifier, cv=5)\n",
    "\n",
    "# Training the stacking ensemble model\n",
    "stacking_clf.fit(X_train, y_train)\n",
    "\n",
    "# Predicting with the stacking ensemble model\n",
    "predictions = stacking_clf.predict(X_test)\n",
    "\n",
    "# Evaluating the stacking ensemble model\n",
    "accuracy = accuracy_score(y_test, predictions)\n",
    "print(f\"Accuracy of stacking ensemble model: {accuracy}\")\n",
    "print(\"Classification report:\\n\", classification_report(y_test, predictions))\n"
   ]
  },
  {
   "cell_type": "code",
   "execution_count": null,
   "id": "alpine-eating",
   "metadata": {},
   "outputs": [],
   "source": [
    "logreg_model = load(\"logreg_model_posneg.joblib\")"
   ]
  },
  {
   "cell_type": "code",
   "execution_count": null,
   "id": "variable-scholar",
   "metadata": {},
   "outputs": [],
   "source": []
  },
  {
   "cell_type": "markdown",
   "id": "exempt-harassment",
   "metadata": {},
   "source": [
    "### Ensemble stacking method using ZhengWei logreg and MJ SVM with unigram and bigram\n",
    "### Not used in project"
   ]
  },
  {
   "cell_type": "code",
   "execution_count": 20,
   "id": "political-future",
   "metadata": {},
   "outputs": [
    {
     "name": "stderr",
     "output_type": "stream",
     "text": [
      "C:\\Users\\Beh Ming Jun\\anaconda3\\envs\\classify\\lib\\site-packages\\sklearn\\base.py:347: InconsistentVersionWarning: Trying to unpickle estimator LogisticRegression from version 1.2.2 when using version 1.3.0. This might lead to breaking code or invalid results. Use at your own risk. For more info please refer to:\n",
      "https://scikit-learn.org/stable/model_persistence.html#security-maintainability-limitations\n",
      "  warnings.warn(\n"
     ]
    },
    {
     "name": "stdout",
     "output_type": "stream",
     "text": [
      "Accuracy of stacking ensemble model: 0.738626964433416\n",
      "Classification report:\n",
      "               precision    recall  f1-score   support\n",
      "\n",
      "    NEGATIVE       0.75      0.71      0.73       601\n",
      "    POSITIVE       0.73      0.77      0.75       608\n",
      "\n",
      "    accuracy                           0.74      1209\n",
      "   macro avg       0.74      0.74      0.74      1209\n",
      "weighted avg       0.74      0.74      0.74      1209\n",
      "\n"
     ]
    }
   ],
   "source": [
    "from sklearn.feature_extraction.text import TfidfVectorizer\n",
    "from sklearn.ensemble import RandomForestClassifier, StackingClassifier\n",
    "from sklearn.svm import SVC\n",
    "from sklearn.linear_model import LogisticRegression\n",
    "from sklearn.pipeline import make_pipeline\n",
    "from sklearn.naive_bayes import MultinomialNB\n",
    "from sklearn.metrics import accuracy_score, classification_report\n",
    "\n",
    "logreg_model = load(\"logreg_model_posneg.joblib\")\n",
    "\n",
    "# Update: Adding Logistic Regression and Multinomial Naive Bayes to the base classifiers\n",
    "base_classifiers = [\n",
    "    ('rf_pipeline', make_pipeline(TfidfVectorizer(ngram_range=(1,2)), RandomForestClassifier(n_estimators=100, random_state=42))),\n",
    "    ('svm_pipeline', make_pipeline(TfidfVectorizer(ngram_range=(1,2)), SVC(probability=True, random_state=42))),\n",
    "    ('lr_pipeline', make_pipeline(TfidfVectorizer(ngram_range=(1,2)), logreg_model))\n",
    "]\n",
    "\n",
    "# Keeping Logistic Regression as the meta-classifier\n",
    "meta_classifier = LogisticRegression(random_state=42)\n",
    "\n",
    "# Define the stacking ensemble model\n",
    "stacking_clf = StackingClassifier(estimators=base_classifiers, final_estimator=meta_classifier, cv=5)\n",
    "\n",
    "# Training the stacking ensemble model\n",
    "stacking_clf.fit(X_train, y_train)\n",
    "\n",
    "# Predicting with the stacking ensemble model\n",
    "predictions = stacking_clf.predict(X_test)\n",
    "\n",
    "# Evaluating the stacking ensemble model\n",
    "accuracy = accuracy_score(y_test, predictions)\n",
    "print(f\"Accuracy of stacking ensemble model: {accuracy}\")\n",
    "print(\"Classification report:\\n\", classification_report(y_test, predictions))\n"
   ]
  },
  {
   "cell_type": "code",
   "execution_count": null,
   "id": "formed-tactics",
   "metadata": {},
   "outputs": [],
   "source": []
  },
  {
   "cell_type": "markdown",
   "id": "solid-singles",
   "metadata": {},
   "source": [
    "### Ensemble Stacking method using random forest, SVM, logreg, naive bayes on unigrams\n",
    "### Not used in project"
   ]
  },
  {
   "cell_type": "code",
   "execution_count": 31,
   "id": "looking-ceramic",
   "metadata": {},
   "outputs": [
    {
     "name": "stdout",
     "output_type": "stream",
     "text": [
      "Accuracy of stacking ensemble model: 0.7427626137303557\n",
      "Classification report:\n",
      "               precision    recall  f1-score   support\n",
      "\n",
      "    NEGATIVE       0.80      0.64      0.71       601\n",
      "    POSITIVE       0.70      0.85      0.77       608\n",
      "\n",
      "    accuracy                           0.74      1209\n",
      "   macro avg       0.75      0.74      0.74      1209\n",
      "weighted avg       0.75      0.74      0.74      1209\n",
      "\n"
     ]
    }
   ],
   "source": [
    "from sklearn.feature_extraction.text import TfidfVectorizer\n",
    "from sklearn.ensemble import RandomForestClassifier, StackingClassifier\n",
    "from sklearn.svm import SVC\n",
    "from sklearn.linear_model import LogisticRegression\n",
    "from sklearn.pipeline import make_pipeline\n",
    "from sklearn.naive_bayes import MultinomialNB\n",
    "from sklearn.metrics import accuracy_score, classification_report\n",
    "\n",
    "# Update: Adding Logistic Regression and Multinomial Naive Bayes to the base classifiers\n",
    "base_classifiers = [\n",
    "    ('rf_pipeline', make_pipeline(TfidfVectorizer(), RandomForestClassifier(n_estimators=100, random_state=42))),\n",
    "    ('svm_pipeline', make_pipeline(TfidfVectorizer(), SVC(probability=True, random_state=42))),\n",
    "    ('lr_pipeline', make_pipeline(TfidfVectorizer(), LogisticRegression(random_state=42))),\n",
    "    ('nb_pipeline', make_pipeline(TfidfVectorizer(), MultinomialNB()))\n",
    "]\n",
    "\n",
    "# Keeping Logistic Regression as the meta-classifier\n",
    "meta_classifier = LogisticRegression(random_state=42)\n",
    "\n",
    "# Define the stacking ensemble model\n",
    "stacking_clf = StackingClassifier(estimators=base_classifiers, final_estimator=meta_classifier, cv=5)\n",
    "\n",
    "# Training the stacking ensemble model\n",
    "stacking_clf.fit(X_train, y_train)\n",
    "\n",
    "# Predicting with the stacking ensemble model\n",
    "predictions = stacking_clf.predict(X_test)\n",
    "\n",
    "# Evaluating the stacking ensemble model\n",
    "accuracy = accuracy_score(y_test, predictions)\n",
    "print(f\"Accuracy of stacking ensemble model: {accuracy}\")\n",
    "print(\"Classification report:\\n\", classification_report(y_test, predictions))\n"
   ]
  },
  {
   "cell_type": "code",
   "execution_count": null,
   "id": "numeric-johnston",
   "metadata": {},
   "outputs": [],
   "source": []
  },
  {
   "cell_type": "markdown",
   "id": "square-apparel",
   "metadata": {},
   "source": [
    "### Ensemble Stacking method using random forest, SVM, logreg, naive bayes on unigrams and bigrams\n",
    "### Not used in project"
   ]
  },
  {
   "cell_type": "code",
   "execution_count": 21,
   "id": "wrapped-confidence",
   "metadata": {},
   "outputs": [
    {
     "name": "stdout",
     "output_type": "stream",
     "text": [
      "Accuracy of stacking ensemble model: 0.739454094292804\n",
      "Classification report:\n",
      "               precision    recall  f1-score   support\n",
      "\n",
      "    NEGATIVE       0.77      0.67      0.72       601\n",
      "    POSITIVE       0.71      0.80      0.76       608\n",
      "\n",
      "    accuracy                           0.74      1209\n",
      "   macro avg       0.74      0.74      0.74      1209\n",
      "weighted avg       0.74      0.74      0.74      1209\n",
      "\n"
     ]
    }
   ],
   "source": [
    "from sklearn.feature_extraction.text import TfidfVectorizer\n",
    "from sklearn.ensemble import RandomForestClassifier, StackingClassifier\n",
    "from sklearn.svm import SVC\n",
    "from sklearn.linear_model import LogisticRegression\n",
    "from sklearn.pipeline import make_pipeline\n",
    "from sklearn.naive_bayes import MultinomialNB\n",
    "from sklearn.metrics import accuracy_score, classification_report\n",
    "\n",
    "# Update: Adding Logistic Regression and Multinomial Naive Bayes to the base classifiers\n",
    "base_classifiers = [\n",
    "    ('rf_pipeline', make_pipeline(TfidfVectorizer(ngram_range=(1,2)), RandomForestClassifier(n_estimators=100, random_state=42))),\n",
    "    ('svm_pipeline', make_pipeline(TfidfVectorizer(ngram_range=(1,2)), SVC(probability=True, random_state=42))),\n",
    "    ('lr_pipeline', make_pipeline(TfidfVectorizer(ngram_range=(1,2)), LogisticRegression(random_state=42))),\n",
    "    ('nb_pipeline', make_pipeline(TfidfVectorizer(ngram_range=(1,2)), MultinomialNB()))\n",
    "]\n",
    "\n",
    "# Keeping Logistic Regression as the meta-classifier\n",
    "meta_classifier = LogisticRegression(random_state=42)\n",
    "\n",
    "# Define the stacking ensemble model\n",
    "stacking_clf = StackingClassifier(estimators=base_classifiers, final_estimator=meta_classifier, cv=5)\n",
    "\n",
    "# Training the stacking ensemble model\n",
    "stacking_clf.fit(X_train, y_train)\n",
    "\n",
    "# Predicting with the stacking ensemble model\n",
    "predictions = stacking_clf.predict(X_test)\n",
    "\n",
    "# Evaluating the stacking ensemble model\n",
    "accuracy = accuracy_score(y_test, predictions)\n",
    "print(f\"Accuracy of stacking ensemble model: {accuracy}\")\n",
    "print(\"Classification report:\\n\", classification_report(y_test, predictions))\n"
   ]
  },
  {
   "cell_type": "code",
   "execution_count": null,
   "id": "historical-carol",
   "metadata": {},
   "outputs": [],
   "source": []
  },
  {
   "cell_type": "markdown",
   "id": "blind-camcorder",
   "metadata": {},
   "source": [
    "### Ensemble Stacking method using random forest and SVM with only unigrams"
   ]
  },
  {
   "cell_type": "code",
   "execution_count": 8,
   "id": "helpful-limit",
   "metadata": {},
   "outputs": [
    {
     "name": "stdout",
     "output_type": "stream",
     "text": [
      "Accuracy of stacking ensemble model: 0.7568238213399504\n",
      "Classification report:\n",
      "               precision    recall  f1-score   support\n",
      "\n",
      "    NEGATIVE       0.78      0.71      0.74       601\n",
      "    POSITIVE       0.74      0.80      0.77       608\n",
      "\n",
      "    accuracy                           0.76      1209\n",
      "   macro avg       0.76      0.76      0.76      1209\n",
      "weighted avg       0.76      0.76      0.76      1209\n",
      "\n"
     ]
    }
   ],
   "source": [
    "from sklearn.feature_extraction.text import TfidfVectorizer\n",
    "from sklearn.ensemble import RandomForestClassifier, StackingClassifier\n",
    "from sklearn.svm import SVC\n",
    "from sklearn.linear_model import LogisticRegression\n",
    "from sklearn.pipeline import Pipeline, make_pipeline\n",
    "from sklearn.metrics import accuracy_score, classification_report\n",
    "\n",
    "# Base classifiers for the stacking ensemble, each with a TF-IDF vectorizer\n",
    "base_classifiers = [\n",
    "    ('rf_pipeline', make_pipeline(TfidfVectorizer(), RandomForestClassifier(n_estimators=100, random_state=42))),\n",
    "    ('svm_pipeline', make_pipeline(TfidfVectorizer(), SVC(probability=True, random_state=42)))\n",
    "]\n",
    "\n",
    "# Meta-classifier\n",
    "meta_classifier = LogisticRegression(random_state=42)\n",
    "\n",
    "# Stacking ensemble classifier, combining the base classifiers and using a meta-classifier\n",
    "stacking_clf = StackingClassifier(estimators=base_classifiers, final_estimator=meta_classifier, cv=5)\n",
    "\n",
    "# Train the stacking ensemble model\n",
    "stacking_clf.fit(X_train, y_train)\n",
    "\n",
    "# Predict with the stacking ensemble model\n",
    "predictions = stacking_clf.predict(X_test)\n",
    "\n",
    "# Evaluate the stacking ensemble model\n",
    "accuracy = accuracy_score(y_test, predictions)\n",
    "print(f\"Accuracy of stacking ensemble model: {accuracy}\")\n",
    "print(\"Classification report:\\n\", classification_report(y_test, predictions))\n"
   ]
  },
  {
   "cell_type": "code",
   "execution_count": null,
   "id": "incorrect-payment",
   "metadata": {},
   "outputs": [],
   "source": []
  },
  {
   "cell_type": "code",
   "execution_count": null,
   "id": "accepting-turner",
   "metadata": {},
   "outputs": [],
   "source": []
  },
  {
   "cell_type": "markdown",
   "id": "accepted-wayne",
   "metadata": {},
   "source": [
    "### Ensemble Stacking method using random forest and SVM with unigrams and bigrams"
   ]
  },
  {
   "cell_type": "code",
   "execution_count": 7,
   "id": "domestic-adrian",
   "metadata": {},
   "outputs": [
    {
     "name": "stdout",
     "output_type": "stream",
     "text": [
      "Accuracy of stacking ensemble model: 0.7485525227460711\n",
      "Classification report:\n",
      "               precision    recall  f1-score   support\n",
      "\n",
      "    NEGATIVE       0.77      0.70      0.73       601\n",
      "    POSITIVE       0.73      0.80      0.76       608\n",
      "\n",
      "    accuracy                           0.75      1209\n",
      "   macro avg       0.75      0.75      0.75      1209\n",
      "weighted avg       0.75      0.75      0.75      1209\n",
      "\n"
     ]
    }
   ],
   "source": [
    "from sklearn.feature_extraction.text import TfidfVectorizer\n",
    "from sklearn.ensemble import RandomForestClassifier, StackingClassifier\n",
    "from sklearn.svm import SVC\n",
    "from sklearn.linear_model import LogisticRegression\n",
    "from sklearn.pipeline import Pipeline, make_pipeline\n",
    "from sklearn.metrics import accuracy_score, classification_report\n",
    "\n",
    "# Base classifiers for the stacking ensemble, each with a TF-IDF vectorizer\n",
    "base_classifiers = [\n",
    "    ('rf_pipeline', make_pipeline(TfidfVectorizer(ngram_range=(1,2)), RandomForestClassifier(n_estimators=100, random_state=42))),\n",
    "    ('svm_pipeline', make_pipeline(TfidfVectorizer(ngram_range=(1,2)), SVC(probability=True, random_state=42)))\n",
    "]\n",
    "\n",
    "# Meta-classifier\n",
    "meta_classifier = LogisticRegression(random_state=42)\n",
    "\n",
    "# Stacking ensemble classifier, combining the base classifiers and using a meta-classifier\n",
    "stacking_clf = StackingClassifier(estimators=base_classifiers, final_estimator=meta_classifier, cv=5)\n",
    "\n",
    "# Train the stacking ensemble model\n",
    "stacking_clf.fit(X_train, y_train)\n",
    "\n",
    "# Predict with the stacking ensemble model\n",
    "predictions = stacking_clf.predict(X_test)\n",
    "\n",
    "# Evaluate the stacking ensemble model\n",
    "accuracy = accuracy_score(y_test, predictions)\n",
    "print(f\"Accuracy of stacking ensemble model: {accuracy}\")\n",
    "print(\"Classification report:\\n\", classification_report(y_test, predictions))\n"
   ]
  },
  {
   "cell_type": "code",
   "execution_count": null,
   "id": "numerous-makeup",
   "metadata": {},
   "outputs": [],
   "source": []
  },
  {
   "cell_type": "code",
   "execution_count": null,
   "id": "pregnant-antibody",
   "metadata": {},
   "outputs": [],
   "source": []
  },
  {
   "cell_type": "markdown",
   "id": "recent-poison",
   "metadata": {},
   "source": [
    "### Saving the Models"
   ]
  },
  {
   "cell_type": "code",
   "execution_count": 12,
   "id": "atmospheric-conviction",
   "metadata": {},
   "outputs": [
    {
     "name": "stdout",
     "output_type": "stream",
     "text": [
      "Model saved to svm_ensemble_stacking_75682.joblib\n"
     ]
    }
   ],
   "source": [
    "# from joblib import dump, load\n",
    "\n",
    "# # Save the model to a file\n",
    "# model_filename = 'svm_ensemble_stacking_75682.joblib'  # Specifying a path in your environment\n",
    "# dump(stacking_clf, model_filename)\n",
    "\n",
    "# print(f\"Model saved to {model_filename}\")\n",
    "\n",
    "\n"
   ]
  },
  {
   "cell_type": "code",
   "execution_count": null,
   "id": "romance-suspension",
   "metadata": {},
   "outputs": [],
   "source": []
  },
  {
   "cell_type": "code",
   "execution_count": null,
   "id": "multiple-maximum",
   "metadata": {},
   "outputs": [],
   "source": []
  }
 ],
 "metadata": {
  "kernelspec": {
   "display_name": "classify",
   "language": "python",
   "name": "classify"
  },
  "language_info": {
   "codemirror_mode": {
    "name": "ipython",
    "version": 3
   },
   "file_extension": ".py",
   "mimetype": "text/x-python",
   "name": "python",
   "nbconvert_exporter": "python",
   "pygments_lexer": "ipython3",
   "version": "3.10.13"
  }
 },
 "nbformat": 4,
 "nbformat_minor": 5
}
