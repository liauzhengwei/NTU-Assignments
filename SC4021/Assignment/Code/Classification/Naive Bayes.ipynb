{
 "cells": [
  {
   "cell_type": "markdown",
   "id": "egyptian-science",
   "metadata": {},
   "source": [
    "## Naive Bayes (neutral, positive, negative)\n",
    "### Not used in project"
   ]
  },
  {
   "cell_type": "code",
   "execution_count": 1,
   "id": "occupied-campbell",
   "metadata": {},
   "outputs": [],
   "source": [
    "import pandas as pd\n",
    "from sklearn.model_selection import train_test_split\n",
    "from sklearn.feature_extraction.text import CountVectorizer\n",
    "from sklearn.naive_bayes import MultinomialNB\n",
    "from sklearn.metrics import accuracy_score\n",
    "from nltk.corpus import stopwords\n",
    "from nltk.tokenize import word_tokenize\n",
    "import re\n",
    "import nltk"
   ]
  },
  {
   "cell_type": "code",
   "execution_count": 2,
   "id": "proper-conditions",
   "metadata": {},
   "outputs": [],
   "source": [
    "# Optional: Download NLTK stopwords\n",
    "# nltk.download('stopwords')\n",
    "# nltk.download('punkt')"
   ]
  },
  {
   "cell_type": "code",
   "execution_count": 7,
   "id": "rotary-apache",
   "metadata": {},
   "outputs": [
    {
     "name": "stdout",
     "output_type": "stream",
     "text": [
      "4709\n",
      "Accuracy: 0.4587478057343476\n"
     ]
    }
   ],
   "source": [
    "import pandas as pd\n",
    "from sklearn.model_selection import train_test_split\n",
    "from sklearn.feature_extraction.text import CountVectorizer\n",
    "from sklearn.naive_bayes import MultinomialNB\n",
    "from sklearn.metrics import accuracy_score\n",
    "from nltk.corpus import stopwords\n",
    "from nltk.tokenize import word_tokenize\n",
    "import re\n",
    "import nltk\n",
    "\n",
    "# Optional: Download NLTK stopwords\n",
    "# nltk.download('stopwords')\n",
    "# nltk.download('punkt')\n",
    "\n",
    "# Load the datasets\n",
    "train_df = pd.read_csv('train.csv')\n",
    "test_df = pd.read_csv('test.csv')\n",
    "\n",
    "# A simple preprocessing function to clean text\n",
    "def preprocess_text(text):\n",
    "    # Lowercasing\n",
    "    text = text.lower()\n",
    "    # Removing non-alphanumeric characters\n",
    "    text = re.sub(r'\\W', ' ', text)\n",
    "    # Tokenization\n",
    "    tokens = word_tokenize(text)\n",
    "    # Removing stopwords\n",
    "    tokens = [word for word in tokens if word not in stopwords.words('english')]\n",
    "    # Joining back into string\n",
    "    text = ' '.join(tokens)\n",
    "    return text\n",
    "\n",
    "# Applying the preprocessing function to both datasets\n",
    "train_df['Headline'] = train_df['Headline'].apply(preprocess_text)\n",
    "test_df['Headline'] = test_df['Headline'].apply(preprocess_text)\n",
    "\n",
    "#Class count\n",
    "count_neutral, count_positive, count_negative = train_df.Sentiment.value_counts()\n",
    "print(count_negative)\n",
    "\n",
    "#Divide by class\n",
    "dataset_neutral = train_df[train_df['Sentiment'] == 'NEUTRAL']\n",
    "dataset_positive = train_df[train_df['Sentiment'] == 'POSITIVE']\n",
    "dataset_negative = train_df[train_df['Sentiment'] == 'NEGATIVE']\n",
    "\n",
    "dataset_neutral_under = dataset_neutral.sample(count_negative)\n",
    "dataset_positive_under = dataset_positive.sample(count_negative)\n",
    "\n",
    "dataset_balance = pd.concat([dataset_neutral_under, dataset_positive_under, dataset_negative], axis=0)\n",
    "\n",
    "# Vectorizing the text data\n",
    "vectorizer = CountVectorizer()\n",
    "X_train = vectorizer.fit_transform(dataset_balance['Headline'])\n",
    "X_test = vectorizer.transform(test_df['Headline'])\n",
    "\n",
    "# Getting the target values\n",
    "y_train = dataset_balance['Sentiment']\n",
    "y_test = test_df['Sentiment']\n",
    "\n",
    "# Training the Naive Bayes classifier\n",
    "classifier = MultinomialNB()\n",
    "classifier.fit(X_train, y_train)\n",
    "\n",
    "# Making predictions on the test set\n",
    "y_pred = classifier.predict(X_test)\n",
    "\n",
    "# Calculating the accuracy\n",
    "accuracy = accuracy_score(y_test, y_pred)\n",
    "print(f'Accuracy: {accuracy}')\n"
   ]
  },
  {
   "cell_type": "code",
   "execution_count": null,
   "id": "extreme-south",
   "metadata": {},
   "outputs": [],
   "source": [
    "0.42012873025160913"
   ]
  },
  {
   "cell_type": "code",
   "execution_count": null,
   "id": "smart-carrier",
   "metadata": {},
   "outputs": [],
   "source": []
  },
  {
   "cell_type": "markdown",
   "id": "exempt-vancouver",
   "metadata": {},
   "source": [
    "## Naive Bayes (positive, negative)"
   ]
  },
  {
   "cell_type": "code",
   "execution_count": 6,
   "id": "educated-payday",
   "metadata": {},
   "outputs": [
    {
     "name": "stdout",
     "output_type": "stream",
     "text": [
      "4709\n",
      "Accuracy: 0.7030603804797353\n"
     ]
    }
   ],
   "source": [
    "import pandas as pd\n",
    "from sklearn.model_selection import train_test_split\n",
    "from sklearn.feature_extraction.text import CountVectorizer\n",
    "from sklearn.naive_bayes import MultinomialNB\n",
    "from sklearn.metrics import accuracy_score\n",
    "from nltk.corpus import stopwords\n",
    "from nltk.tokenize import word_tokenize\n",
    "import re\n",
    "import nltk\n",
    "\n",
    "# Optional: Download NLTK stopwords\n",
    "# nltk.download('stopwords')\n",
    "# nltk.download('punkt')\n",
    "\n",
    "# Load the datasets\n",
    "train_df = pd.read_csv('train_pos_neg.csv')\n",
    "test_df = pd.read_csv('test_pos_neg.csv')\n",
    "\n",
    "# A simple preprocessing function to clean text\n",
    "def preprocess_text(text):\n",
    "    # Lowercasing\n",
    "    text = text.lower()\n",
    "    # Removing non-alphanumeric characters\n",
    "    text = re.sub(r'\\W', ' ', text)\n",
    "    # Tokenization\n",
    "    tokens = word_tokenize(text)\n",
    "    # Removing stopwords\n",
    "    tokens = [word for word in tokens if word not in stopwords.words('english')]\n",
    "    # Joining back into string\n",
    "    text = ' '.join(tokens)\n",
    "    return text\n",
    "\n",
    "# Applying the preprocessing function to both datasets\n",
    "train_df['Headline'] = train_df['Headline'].apply(preprocess_text)\n",
    "test_df['Headline'] = test_df['Headline'].apply(preprocess_text)\n",
    "\n",
    "#Class count\n",
    "count_positive, count_negative = train_df.Sentiment.value_counts()\n",
    "print(count_negative)\n",
    "\n",
    "#Divide by class\n",
    "dataset_positive = train_df[train_df['Sentiment'] == 'POSITIVE']\n",
    "dataset_negative = train_df[train_df['Sentiment'] == 'NEGATIVE']\n",
    "\n",
    "dataset_positive_under = dataset_positive.sample(count_negative)\n",
    "\n",
    "dataset_balance = pd.concat([dataset_positive_under, dataset_negative], axis=0)\n",
    "\n",
    "# Vectorizing the text data\n",
    "vectorizer = CountVectorizer()\n",
    "X_train = vectorizer.fit_transform(dataset_balance['Headline'])\n",
    "X_test = vectorizer.transform(test_df['Headline'])\n",
    "\n",
    "# Getting the target values\n",
    "y_train = dataset_balance['Sentiment']\n",
    "y_test = test_df['Sentiment']\n",
    "\n",
    "# Training the Naive Bayes classifier\n",
    "classifier = MultinomialNB()\n",
    "classifier.fit(X_train, y_train)\n",
    "\n",
    "# Making predictions on the test set\n",
    "y_pred = classifier.predict(X_test)\n",
    "\n",
    "# Calculating the accuracy\n",
    "accuracy = accuracy_score(y_test, y_pred)\n",
    "print(f'Accuracy: {accuracy}')\n"
   ]
  },
  {
   "cell_type": "code",
   "execution_count": 8,
   "id": "brave-joyce",
   "metadata": {},
   "outputs": [
    {
     "name": "stdout",
     "output_type": "stream",
     "text": [
      "              precision    recall  f1-score   support\n",
      "\n",
      "    NEGATIVE       0.73      0.64      0.68       601\n",
      "    POSITIVE       0.68      0.76      0.72       608\n",
      "\n",
      "    accuracy                           0.70      1209\n",
      "   macro avg       0.71      0.70      0.70      1209\n",
      "weighted avg       0.71      0.70      0.70      1209\n",
      "\n"
     ]
    }
   ],
   "source": [
    "from sklearn.metrics import classification_report,confusion_matrix,accuracy_score\n",
    "\n",
    "#Classification report for tfidf features\n",
    "naive_bayes_report=classification_report(y_test,y_pred)\n",
    "print(naive_bayes_report)"
   ]
  },
  {
   "cell_type": "code",
   "execution_count": null,
   "id": "intellectual-chinese",
   "metadata": {},
   "outputs": [],
   "source": []
  },
  {
   "cell_type": "markdown",
   "id": "aging-medium",
   "metadata": {},
   "source": [
    "## Naive Bayes (neutral, opinionated)"
   ]
  },
  {
   "cell_type": "code",
   "execution_count": 10,
   "id": "adapted-engineering",
   "metadata": {},
   "outputs": [
    {
     "name": "stdout",
     "output_type": "stream",
     "text": [
      "10617\n",
      "Accuracy: 0.5523698069046226\n"
     ]
    }
   ],
   "source": [
    "import pandas as pd\n",
    "from sklearn.model_selection import train_test_split\n",
    "from sklearn.feature_extraction.text import CountVectorizer\n",
    "from sklearn.naive_bayes import MultinomialNB\n",
    "from sklearn.metrics import accuracy_score\n",
    "from nltk.corpus import stopwords\n",
    "from nltk.tokenize import word_tokenize\n",
    "import re\n",
    "import nltk\n",
    "\n",
    "# Optional: Download NLTK stopwords\n",
    "# nltk.download('stopwords')\n",
    "# nltk.download('punkt')\n",
    "\n",
    "# Load the datasets\n",
    "train_df = pd.read_csv('train_neu_opi.csv')\n",
    "test_df = pd.read_csv('test_neu_opi.csv')\n",
    "\n",
    "# A simple preprocessing function to clean text\n",
    "def preprocess_text(text):\n",
    "    # Lowercasing\n",
    "    text = text.lower()\n",
    "    # Removing non-alphanumeric characters\n",
    "    text = re.sub(r'\\W', ' ', text)\n",
    "    # Tokenization\n",
    "    tokens = word_tokenize(text)\n",
    "    # Removing stopwords\n",
    "    tokens = [word for word in tokens if word not in stopwords.words('english')]\n",
    "    # Joining back into string\n",
    "    text = ' '.join(tokens)\n",
    "    return text\n",
    "\n",
    "# Applying the preprocessing function to both datasets\n",
    "train_df['Headline'] = train_df['Headline'].apply(preprocess_text)\n",
    "test_df['Headline'] = test_df['Headline'].apply(preprocess_text)\n",
    "\n",
    "#Class count\n",
    "count_opinionated, count_neutral = train_df.Sentiment.value_counts()\n",
    "print(count_neutral)\n",
    "\n",
    "#Divide by class\n",
    "dataset_opinionated = train_df[train_df['Sentiment'] == 'OPINIONATED']\n",
    "dataset_neutral = train_df[train_df['Sentiment'] == 'NEUTRAL']\n",
    "\n",
    "dataset_opinionated_under = dataset_opinionated.sample(count_neutral)\n",
    "\n",
    "dataset_balance = pd.concat([dataset_opinionated_under, dataset_neutral], axis=0)\n",
    "\n",
    "# Vectorizing the text data\n",
    "vectorizer = CountVectorizer()\n",
    "X_train = vectorizer.fit_transform(dataset_balance['Headline'])\n",
    "X_test = vectorizer.transform(test_df['Headline'])\n",
    "\n",
    "# Getting the target values\n",
    "y_train = dataset_balance['Sentiment']\n",
    "y_test = test_df['Sentiment']\n",
    "\n",
    "# Training the Naive Bayes classifier\n",
    "classifier = MultinomialNB()\n",
    "classifier.fit(X_train, y_train)\n",
    "\n",
    "# Making predictions on the test set\n",
    "y_pred = classifier.predict(X_test)\n",
    "\n",
    "# Calculating the accuracy\n",
    "accuracy = accuracy_score(y_test, y_pred)\n",
    "print(f'Accuracy: {accuracy}')"
   ]
  },
  {
   "cell_type": "code",
   "execution_count": 11,
   "id": "accompanied-visiting",
   "metadata": {},
   "outputs": [
    {
     "name": "stdout",
     "output_type": "stream",
     "text": [
      "              precision    recall  f1-score   support\n",
      "\n",
      "     NEUTRAL       0.34      0.57      0.43       500\n",
      " OPINIONATED       0.75      0.55      0.63      1209\n",
      "\n",
      "    accuracy                           0.55      1709\n",
      "   macro avg       0.55      0.56      0.53      1709\n",
      "weighted avg       0.63      0.55      0.57      1709\n",
      "\n"
     ]
    }
   ],
   "source": [
    "from sklearn.metrics import classification_report,confusion_matrix,accuracy_score\n",
    "\n",
    "#Classification report for tfidf features\n",
    "naive_bayes_report=classification_report(y_test,y_pred)\n",
    "print(naive_bayes_report)"
   ]
  },
  {
   "cell_type": "code",
   "execution_count": null,
   "id": "administrative-personality",
   "metadata": {},
   "outputs": [],
   "source": []
  }
 ],
 "metadata": {
  "kernelspec": {
   "display_name": "classify",
   "language": "python",
   "name": "classify"
  },
  "language_info": {
   "codemirror_mode": {
    "name": "ipython",
    "version": 3
   },
   "file_extension": ".py",
   "mimetype": "text/x-python",
   "name": "python",
   "nbconvert_exporter": "python",
   "pygments_lexer": "ipython3",
   "version": "3.10.13"
  }
 },
 "nbformat": 4,
 "nbformat_minor": 5
}
