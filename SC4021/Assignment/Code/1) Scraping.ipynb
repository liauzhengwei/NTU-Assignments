{
 "cells": [
  {
   "cell_type": "code",
   "execution_count": 1,
   "id": "637aa809-19d8-4819-ab08-2adebc6dc354",
   "metadata": {},
   "outputs": [],
   "source": [
    "import re\n",
    "import csv\n",
    "from time import sleep\n",
    "from bs4 import BeautifulSoup\n",
    "import requests\n",
    "import pandas as pd\n",
    "from datetime import datetime, timedelta"
   ]
  },
  {
   "cell_type": "code",
   "execution_count": 2,
   "id": "2cc3d192-4e61-4abc-9e40-b8bd75d6e148",
   "metadata": {},
   "outputs": [],
   "source": [
    "stocks = [\"MSFT\", \"AAPL\", \"NVDA\", \"AMZN\", \"GOOG\"]"
   ]
  },
  {
   "cell_type": "code",
   "execution_count": 3,
   "id": "58306a37-25f9-4021-901e-6442f68c73e3",
   "metadata": {},
   "outputs": [],
   "source": [
    "def get_article(card):\n",
    "  headline = card.find('h4','s-title').text\n",
    "  source = card.find('span','s-source').text\n",
    "  posted = card.find('span','s-time').text.replace('.','').strip()\n",
    "  description = card.find('p','s-desc').text.strip()\n",
    "  link = card.find('h4').find('a')['href']\n",
    "\n",
    "  article = (headline,source,posted,description,link)\n",
    "  return article"
   ]
  },
  {
   "cell_type": "code",
   "execution_count": 4,
   "id": "c95678fb-88d2-4f3c-a080-85409331477d",
   "metadata": {},
   "outputs": [],
   "source": [
    "def get_the_news(search):\n",
    "\n",
    "  template = 'https://news.search.yahoo.com/search?p={}'\n",
    "  url = template.format(search)\n",
    "\n",
    "  articles = []\n",
    "  links = set()\n",
    "\n",
    "  while True:\n",
    "        response = requests.get(url)\n",
    "        soup = BeautifulSoup(response.text, 'lxml')\n",
    "        cards = soup.find_all('div', 'NewsArticle')\n",
    "\n",
    "        for card in cards:\n",
    "            article = get_article(card)\n",
    "            link = article[-1]\n",
    "            if not link in links:\n",
    "                links.add(link)\n",
    "                articles.append(article)\n",
    "\n",
    "        try:\n",
    "            url = soup.find('a', 'next').get('href')\n",
    "            sleep(2)\n",
    "\n",
    "        except AttributeError:\n",
    "            break\n",
    "\n",
    "  df = pd.DataFrame(articles, columns=['Headline', 'Source', 'Posted', 'Description', 'Link'])\n",
    "\n",
    "  return df"
   ]
  },
  {
   "cell_type": "code",
   "execution_count": 5,
   "id": "fc178bbe-313e-40ee-89f7-5d280b69f4b6",
   "metadata": {},
   "outputs": [],
   "source": [
    "def convert_relative_time_to_date(relative_time):\n",
    "    numerical_value = int(re.search(r'\\d+', relative_time).group())\n",
    "\n",
    "    if 'minute' in relative_time:\n",
    "        return (datetime.now() - timedelta(minutes=numerical_value)).date()\n",
    "    elif 'hour' in relative_time:\n",
    "        return (datetime.now() - timedelta(hours=numerical_value)).date()\n",
    "    elif 'day' in relative_time:\n",
    "        return (datetime.now() - timedelta(days=numerical_value)).date()\n",
    "    else:\n",
    "        return None"
   ]
  },
  {
   "cell_type": "code",
   "execution_count": 6,
   "id": "944a3906-d876-4e37-95bf-c0e91a00c017",
   "metadata": {},
   "outputs": [
    {
     "name": "stdout",
     "output_type": "stream",
     "text": [
      "MSFT saved!\n",
      "AAPL saved!\n",
      "NVDA saved!\n",
      "AMZN saved!\n",
      "GOOG saved!\n"
     ]
    }
   ],
   "source": [
    "for stock in stocks:\n",
    "    news = get_the_news(stock)\n",
    "    news['Posted'] = news['Posted'].apply(convert_relative_time_to_date)\n",
    "    news.to_csv(stock + '.csv')\n",
    "    print(stock + \" saved!\")"
   ]
  },
  {
   "cell_type": "code",
   "execution_count": null,
   "id": "75a76e00-0590-4e17-abfe-877a63c52f68",
   "metadata": {},
   "outputs": [],
   "source": []
  },
  {
   "cell_type": "code",
   "execution_count": null,
   "id": "8a9f4ec7-2637-4eb8-abbb-41682d9fae3b",
   "metadata": {},
   "outputs": [],
   "source": []
  },
  {
   "cell_type": "code",
   "execution_count": null,
   "id": "b4246cd4-52c2-424e-b735-ff8ed8b51837",
   "metadata": {},
   "outputs": [],
   "source": []
  },
  {
   "cell_type": "code",
   "execution_count": null,
   "id": "5420d311-2259-42e0-84f5-15be08ea1231",
   "metadata": {},
   "outputs": [],
   "source": []
  },
  {
   "cell_type": "code",
   "execution_count": null,
   "id": "14ea87fa-e9a1-495b-9a45-14b5b0a8b970",
   "metadata": {},
   "outputs": [],
   "source": []
  },
  {
   "cell_type": "code",
   "execution_count": null,
   "id": "c6391392-a9d8-4069-a736-8479a6dd993e",
   "metadata": {},
   "outputs": [],
   "source": []
  },
  {
   "cell_type": "code",
   "execution_count": null,
   "id": "c016aada-1856-4e57-b0a7-fbe614970f70",
   "metadata": {},
   "outputs": [],
   "source": []
  }
 ],
 "metadata": {
  "kernelspec": {
   "display_name": "Python 3 (ipykernel)",
   "language": "python",
   "name": "python3"
  },
  "language_info": {
   "codemirror_mode": {
    "name": "ipython",
    "version": 3
   },
   "file_extension": ".py",
   "mimetype": "text/x-python",
   "name": "python",
   "nbconvert_exporter": "python",
   "pygments_lexer": "ipython3",
   "version": "3.9.18"
  },
  "widgets": {
   "application/vnd.jupyter.widget-state+json": {
    "state": {},
    "version_major": 2,
    "version_minor": 0
   }
  }
 },
 "nbformat": 4,
 "nbformat_minor": 5
}
